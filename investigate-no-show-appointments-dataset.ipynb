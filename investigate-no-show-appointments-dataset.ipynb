{
 "cells": [
  {
   "cell_type": "markdown",
   "metadata": {
    "papermill": {
     "duration": 0.068444,
     "end_time": "2020-12-31T04:18:45.984956",
     "exception": false,
     "start_time": "2020-12-31T04:18:45.916512",
     "status": "completed"
    },
    "tags": []
   },
   "source": [
    "\n",
    "# Project: Investigate \"No-show appointments\" Dataset \n",
    "## (Why patients miss their appointments?)\n",
    "---\n",
    "\n",
    "## Table of Contents\n",
    "<ul>\n",
    "<li><a href=\"#intro\">Introduction</a></li>\n",
    "<li><a href=\"#wrangling\">1) Assessing Data and Data Wrangling</a></li>\n",
    "<li><a href=\"#GE\">2) General Exploration of the dataset</a></li>\n",
    "<li><a href=\"#eda\">3) Exploratory Data Analysis</a></li>\n",
    "<li><a href=\"#conclusions\">4) Conclusions</a></li>\n",
    "<li><a href=\"#lim\">5) limitation</a></li>    \n",
    "\n",
    "</ul>"
   ]
  },
  {
   "cell_type": "markdown",
   "metadata": {
    "papermill": {
     "duration": 0.067156,
     "end_time": "2020-12-31T04:18:46.116703",
     "exception": false,
     "start_time": "2020-12-31T04:18:46.049547",
     "status": "completed"
    },
    "tags": []
   },
   "source": [
    "<a id='intro'></a>\n",
    "## Introduction\n",
    "This dataset contain 100k medical appointments in Brazil and is focused on the question of whether or not patients show up for their appointment and a number of characteristics about the patients who make the appointments.\n",
    "The variables of the dataset:\n",
    "\n",
    "\n",
    "\n",
    "|Column|Description|\n",
    "|-------|-------|\n",
    "|PatientId|Identification of a patient|\n",
    "|AppointmentID |Identification of each appointment|\n",
    "|Gender|Male or Female.|\n",
    "|ScheduledDay|The day someone called or registered the appointment.|\n",
    "|AppointmentDay|The day of the actuall appointment, when they have to visit the doctor.|\n",
    "|Age|How old is the patient.|\n",
    "|Neighbourhood|Where the appointment takes place.|\n",
    "|Scholarship|True of False|\n",
    "|Hipertension|True or False|\n",
    "|Diabetes|True or False|\n",
    "|Alcoholism|True or False|\n",
    "|Handcap|True or False|\n",
    "|SMS_received|messages sent to the patient.|\n",
    "|No-show|True or False|\n",
    "\n",
    "\n",
    "##### **The questions to be explored:**\n",
    "- **Q1- Is there a correlation between missing the appointment and the age of the patient?**\n",
    "- **Q2- Is there a correlation between missing the appointment and the Gender of the patient?**\n",
    "- **Q3- Is there a correlation between missing the appointment and the Neighbourhood?**\n",
    "- **Q4- Is there a correlation between missing the appointment and not receiving an SMS message?**\n"
   ]
  },
  {
   "cell_type": "markdown",
   "metadata": {
    "papermill": {
     "duration": 0.064039,
     "end_time": "2020-12-31T04:18:46.247517",
     "exception": false,
     "start_time": "2020-12-31T04:18:46.183478",
     "status": "completed"
    },
    "tags": []
   },
   "source": [
    "### Importing required packages"
   ]
  },
  {
   "cell_type": "code",
   "execution_count": 1,
   "metadata": {
    "execution": {
     "iopub.execute_input": "2020-12-31T04:18:46.379537Z",
     "iopub.status.busy": "2020-12-31T04:18:46.378868Z",
     "iopub.status.idle": "2020-12-31T04:18:46.389593Z",
     "shell.execute_reply": "2020-12-31T04:18:46.388943Z"
    },
    "papermill": {
     "duration": 0.077945,
     "end_time": "2020-12-31T04:18:46.389729",
     "exception": false,
     "start_time": "2020-12-31T04:18:46.311784",
     "status": "completed"
    },
    "tags": []
   },
   "outputs": [
    {
     "name": "stdout",
     "output_type": "stream",
     "text": [
      "---Importing Done!!---\n"
     ]
    }
   ],
   "source": [
    "import pandas as pd\n",
    "import numpy as np\n",
    "import matplotlib.pyplot as plt\n",
    "%matplotlib inline\n",
    "\n",
    "print(\"---Importing Done!!---\")"
   ]
  },
  {
   "cell_type": "markdown",
   "metadata": {
    "papermill": {
     "duration": 0.06487,
     "end_time": "2020-12-31T04:18:46.520838",
     "exception": false,
     "start_time": "2020-12-31T04:18:46.455968",
     "status": "completed"
    },
    "tags": []
   },
   "source": [
    "### General Properties"
   ]
  },
  {
   "cell_type": "code",
   "execution_count": 2,
   "metadata": {
    "execution": {
     "iopub.execute_input": "2020-12-31T04:18:46.663763Z",
     "iopub.status.busy": "2020-12-31T04:18:46.662788Z",
     "iopub.status.idle": "2020-12-31T04:18:47.116330Z",
     "shell.execute_reply": "2020-12-31T04:18:47.115413Z"
    },
    "papermill": {
     "duration": 0.527748,
     "end_time": "2020-12-31T04:18:47.116485",
     "exception": false,
     "start_time": "2020-12-31T04:18:46.588737",
     "status": "completed"
    },
    "tags": []
   },
   "outputs": [
    {
     "data": {
      "text/html": [
       "<div>\n",
       "<style scoped>\n",
       "    .dataframe tbody tr th:only-of-type {\n",
       "        vertical-align: middle;\n",
       "    }\n",
       "\n",
       "    .dataframe tbody tr th {\n",
       "        vertical-align: top;\n",
       "    }\n",
       "\n",
       "    .dataframe thead th {\n",
       "        text-align: right;\n",
       "    }\n",
       "</style>\n",
       "<table border=\"1\" class=\"dataframe\">\n",
       "  <thead>\n",
       "    <tr style=\"text-align: right;\">\n",
       "      <th></th>\n",
       "      <th>PatientId</th>\n",
       "      <th>AppointmentID</th>\n",
       "      <th>Gender</th>\n",
       "      <th>ScheduledDay</th>\n",
       "      <th>AppointmentDay</th>\n",
       "      <th>Age</th>\n",
       "      <th>Neighbourhood</th>\n",
       "      <th>Scholarship</th>\n",
       "      <th>Hipertension</th>\n",
       "      <th>Diabetes</th>\n",
       "      <th>Alcoholism</th>\n",
       "      <th>Handcap</th>\n",
       "      <th>SMS_received</th>\n",
       "      <th>No-show</th>\n",
       "    </tr>\n",
       "  </thead>\n",
       "  <tbody>\n",
       "    <tr>\n",
       "      <th>0</th>\n",
       "      <td>2.987250e+13</td>\n",
       "      <td>5642903</td>\n",
       "      <td>F</td>\n",
       "      <td>2016-04-29T18:38:08Z</td>\n",
       "      <td>2016-04-29T00:00:00Z</td>\n",
       "      <td>62</td>\n",
       "      <td>JARDIM DA PENHA</td>\n",
       "      <td>0</td>\n",
       "      <td>1</td>\n",
       "      <td>0</td>\n",
       "      <td>0</td>\n",
       "      <td>0</td>\n",
       "      <td>0</td>\n",
       "      <td>No</td>\n",
       "    </tr>\n",
       "    <tr>\n",
       "      <th>1</th>\n",
       "      <td>5.589978e+14</td>\n",
       "      <td>5642503</td>\n",
       "      <td>M</td>\n",
       "      <td>2016-04-29T16:08:27Z</td>\n",
       "      <td>2016-04-29T00:00:00Z</td>\n",
       "      <td>56</td>\n",
       "      <td>JARDIM DA PENHA</td>\n",
       "      <td>0</td>\n",
       "      <td>0</td>\n",
       "      <td>0</td>\n",
       "      <td>0</td>\n",
       "      <td>0</td>\n",
       "      <td>0</td>\n",
       "      <td>No</td>\n",
       "    </tr>\n",
       "    <tr>\n",
       "      <th>2</th>\n",
       "      <td>4.262962e+12</td>\n",
       "      <td>5642549</td>\n",
       "      <td>F</td>\n",
       "      <td>2016-04-29T16:19:04Z</td>\n",
       "      <td>2016-04-29T00:00:00Z</td>\n",
       "      <td>62</td>\n",
       "      <td>MATA DA PRAIA</td>\n",
       "      <td>0</td>\n",
       "      <td>0</td>\n",
       "      <td>0</td>\n",
       "      <td>0</td>\n",
       "      <td>0</td>\n",
       "      <td>0</td>\n",
       "      <td>No</td>\n",
       "    </tr>\n",
       "    <tr>\n",
       "      <th>3</th>\n",
       "      <td>8.679512e+11</td>\n",
       "      <td>5642828</td>\n",
       "      <td>F</td>\n",
       "      <td>2016-04-29T17:29:31Z</td>\n",
       "      <td>2016-04-29T00:00:00Z</td>\n",
       "      <td>8</td>\n",
       "      <td>PONTAL DE CAMBURI</td>\n",
       "      <td>0</td>\n",
       "      <td>0</td>\n",
       "      <td>0</td>\n",
       "      <td>0</td>\n",
       "      <td>0</td>\n",
       "      <td>0</td>\n",
       "      <td>No</td>\n",
       "    </tr>\n",
       "    <tr>\n",
       "      <th>4</th>\n",
       "      <td>8.841186e+12</td>\n",
       "      <td>5642494</td>\n",
       "      <td>F</td>\n",
       "      <td>2016-04-29T16:07:23Z</td>\n",
       "      <td>2016-04-29T00:00:00Z</td>\n",
       "      <td>56</td>\n",
       "      <td>JARDIM DA PENHA</td>\n",
       "      <td>0</td>\n",
       "      <td>1</td>\n",
       "      <td>1</td>\n",
       "      <td>0</td>\n",
       "      <td>0</td>\n",
       "      <td>0</td>\n",
       "      <td>No</td>\n",
       "    </tr>\n",
       "  </tbody>\n",
       "</table>\n",
       "</div>"
      ],
      "text/plain": [
       "      PatientId  AppointmentID Gender          ScheduledDay  \\\n",
       "0  2.987250e+13        5642903      F  2016-04-29T18:38:08Z   \n",
       "1  5.589978e+14        5642503      M  2016-04-29T16:08:27Z   \n",
       "2  4.262962e+12        5642549      F  2016-04-29T16:19:04Z   \n",
       "3  8.679512e+11        5642828      F  2016-04-29T17:29:31Z   \n",
       "4  8.841186e+12        5642494      F  2016-04-29T16:07:23Z   \n",
       "\n",
       "         AppointmentDay  Age      Neighbourhood  Scholarship  Hipertension  \\\n",
       "0  2016-04-29T00:00:00Z   62    JARDIM DA PENHA            0             1   \n",
       "1  2016-04-29T00:00:00Z   56    JARDIM DA PENHA            0             0   \n",
       "2  2016-04-29T00:00:00Z   62      MATA DA PRAIA            0             0   \n",
       "3  2016-04-29T00:00:00Z    8  PONTAL DE CAMBURI            0             0   \n",
       "4  2016-04-29T00:00:00Z   56    JARDIM DA PENHA            0             1   \n",
       "\n",
       "   Diabetes  Alcoholism  Handcap  SMS_received No-show  \n",
       "0         0           0        0             0      No  \n",
       "1         0           0        0             0      No  \n",
       "2         0           0        0             0      No  \n",
       "3         0           0        0             0      No  \n",
       "4         1           0        0             0      No  "
      ]
     },
     "execution_count": 2,
     "metadata": {},
     "output_type": "execute_result"
    }
   ],
   "source": [
    "# loading the dataset\n",
    "df = pd.read_csv(\"../input/noshowappointments/KaggleV2-May-2016.csv\")\n",
    "df.head()"
   ]
  },
  {
   "cell_type": "markdown",
   "metadata": {
    "papermill": {
     "duration": 0.069752,
     "end_time": "2020-12-31T04:18:47.252509",
     "exception": false,
     "start_time": "2020-12-31T04:18:47.182757",
     "status": "completed"
    },
    "tags": []
   },
   "source": [
    "___\n",
    "<a id='wrangling'></a>\n",
    "# 1) Assessing Data and Data Wrangling\n",
    "- (a) Dataset shape\n",
    "- (b) Columns data types\n",
    "- (c) Missing values\n",
    "- (d) Incorrect values\n",
    "- (e) Duplicates"
   ]
  },
  {
   "cell_type": "markdown",
   "metadata": {
    "papermill": {
     "duration": 0.070426,
     "end_time": "2020-12-31T04:18:47.389828",
     "exception": false,
     "start_time": "2020-12-31T04:18:47.319402",
     "status": "completed"
    },
    "tags": []
   },
   "source": [
    "### (a) Dataset shape and types"
   ]
  },
  {
   "cell_type": "code",
   "execution_count": 3,
   "metadata": {
    "execution": {
     "iopub.execute_input": "2020-12-31T04:18:47.528123Z",
     "iopub.status.busy": "2020-12-31T04:18:47.527030Z",
     "iopub.status.idle": "2020-12-31T04:18:47.531061Z",
     "shell.execute_reply": "2020-12-31T04:18:47.531534Z"
    },
    "papermill": {
     "duration": 0.076031,
     "end_time": "2020-12-31T04:18:47.531693",
     "exception": false,
     "start_time": "2020-12-31T04:18:47.455662",
     "status": "completed"
    },
    "tags": []
   },
   "outputs": [
    {
     "data": {
      "text/plain": [
       "(110527, 14)"
      ]
     },
     "execution_count": 3,
     "metadata": {},
     "output_type": "execute_result"
    }
   ],
   "source": [
    "df.shape"
   ]
  },
  {
   "cell_type": "markdown",
   "metadata": {
    "papermill": {
     "duration": 0.066352,
     "end_time": "2020-12-31T04:18:47.666678",
     "exception": false,
     "start_time": "2020-12-31T04:18:47.600326",
     "status": "completed"
    },
    "tags": []
   },
   "source": [
    "**The dataset has:**\n",
    "- 110,527 record\n",
    "- 14 column\n",
    "---\n"
   ]
  },
  {
   "cell_type": "markdown",
   "metadata": {
    "papermill": {
     "duration": 0.06692,
     "end_time": "2020-12-31T04:18:47.801837",
     "exception": false,
     "start_time": "2020-12-31T04:18:47.734917",
     "status": "completed"
    },
    "tags": []
   },
   "source": [
    "### (b) Colums data types"
   ]
  },
  {
   "cell_type": "code",
   "execution_count": 4,
   "metadata": {
    "execution": {
     "iopub.execute_input": "2020-12-31T04:18:47.941543Z",
     "iopub.status.busy": "2020-12-31T04:18:47.940130Z",
     "iopub.status.idle": "2020-12-31T04:18:48.019223Z",
     "shell.execute_reply": "2020-12-31T04:18:48.019966Z"
    },
    "papermill": {
     "duration": 0.150913,
     "end_time": "2020-12-31T04:18:48.020229",
     "exception": false,
     "start_time": "2020-12-31T04:18:47.869316",
     "status": "completed"
    },
    "tags": []
   },
   "outputs": [
    {
     "name": "stdout",
     "output_type": "stream",
     "text": [
      "<class 'pandas.core.frame.DataFrame'>\n",
      "RangeIndex: 110527 entries, 0 to 110526\n",
      "Data columns (total 14 columns):\n",
      " #   Column          Non-Null Count   Dtype  \n",
      "---  ------          --------------   -----  \n",
      " 0   PatientId       110527 non-null  float64\n",
      " 1   AppointmentID   110527 non-null  int64  \n",
      " 2   Gender          110527 non-null  object \n",
      " 3   ScheduledDay    110527 non-null  object \n",
      " 4   AppointmentDay  110527 non-null  object \n",
      " 5   Age             110527 non-null  int64  \n",
      " 6   Neighbourhood   110527 non-null  object \n",
      " 7   Scholarship     110527 non-null  int64  \n",
      " 8   Hipertension    110527 non-null  int64  \n",
      " 9   Diabetes        110527 non-null  int64  \n",
      " 10  Alcoholism      110527 non-null  int64  \n",
      " 11  Handcap         110527 non-null  int64  \n",
      " 12  SMS_received    110527 non-null  int64  \n",
      " 13  No-show         110527 non-null  object \n",
      "dtypes: float64(1), int64(8), object(5)\n",
      "memory usage: 11.8+ MB\n"
     ]
    }
   ],
   "source": [
    "df.info()"
   ]
  },
  {
   "cell_type": "markdown",
   "metadata": {
    "papermill": {
     "duration": 0.066968,
     "end_time": "2020-12-31T04:18:48.155411",
     "exception": false,
     "start_time": "2020-12-31T04:18:48.088443",
     "status": "completed"
    },
    "tags": []
   },
   "source": [
    "The dataset has two columns with incorrect types\n",
    "- ScheduledDay\n",
    "- AppointmentDay\n",
    "\n",
    "So, we wil convert them to datetime types"
   ]
  },
  {
   "cell_type": "code",
   "execution_count": 5,
   "metadata": {
    "execution": {
     "iopub.execute_input": "2020-12-31T04:18:48.335344Z",
     "iopub.status.busy": "2020-12-31T04:18:48.330080Z",
     "iopub.status.idle": "2020-12-31T04:18:48.399240Z",
     "shell.execute_reply": "2020-12-31T04:18:48.399749Z"
    },
    "papermill": {
     "duration": 0.177272,
     "end_time": "2020-12-31T04:18:48.399900",
     "exception": false,
     "start_time": "2020-12-31T04:18:48.222628",
     "status": "completed"
    },
    "tags": []
   },
   "outputs": [
    {
     "data": {
      "text/plain": [
       "0   2016-04-29 18:38:08+00:00\n",
       "1   2016-04-29 16:08:27+00:00\n",
       "Name: ScheduledDay, dtype: datetime64[ns, UTC]"
      ]
     },
     "execution_count": 5,
     "metadata": {},
     "output_type": "execute_result"
    }
   ],
   "source": [
    "# Convert ScheduledDay to datetime type\n",
    "df.ScheduledDay = pd.to_datetime(df.ScheduledDay)\n",
    "df.ScheduledDay.head(2)"
   ]
  },
  {
   "cell_type": "code",
   "execution_count": 6,
   "metadata": {
    "execution": {
     "iopub.execute_input": "2020-12-31T04:18:48.549873Z",
     "iopub.status.busy": "2020-12-31T04:18:48.549148Z",
     "iopub.status.idle": "2020-12-31T04:18:48.580439Z",
     "shell.execute_reply": "2020-12-31T04:18:48.579711Z"
    },
    "papermill": {
     "duration": 0.111749,
     "end_time": "2020-12-31T04:18:48.580561",
     "exception": false,
     "start_time": "2020-12-31T04:18:48.468812",
     "status": "completed"
    },
    "tags": []
   },
   "outputs": [
    {
     "data": {
      "text/plain": [
       "0   2016-04-29 00:00:00+00:00\n",
       "1   2016-04-29 00:00:00+00:00\n",
       "Name: AppointmentDay, dtype: datetime64[ns, UTC]"
      ]
     },
     "execution_count": 6,
     "metadata": {},
     "output_type": "execute_result"
    }
   ],
   "source": [
    "# Convert ScheduledDay to datetime type\n",
    "df.AppointmentDay = pd.to_datetime(df.AppointmentDay)\n",
    "df.AppointmentDay.head(2)"
   ]
  },
  {
   "cell_type": "code",
   "execution_count": 7,
   "metadata": {
    "execution": {
     "iopub.execute_input": "2020-12-31T04:18:48.724235Z",
     "iopub.status.busy": "2020-12-31T04:18:48.723538Z",
     "iopub.status.idle": "2020-12-31T04:18:48.774454Z",
     "shell.execute_reply": "2020-12-31T04:18:48.773839Z"
    },
    "papermill": {
     "duration": 0.126151,
     "end_time": "2020-12-31T04:18:48.774584",
     "exception": false,
     "start_time": "2020-12-31T04:18:48.648433",
     "status": "completed"
    },
    "tags": []
   },
   "outputs": [
    {
     "name": "stdout",
     "output_type": "stream",
     "text": [
      "<class 'pandas.core.frame.DataFrame'>\n",
      "RangeIndex: 110527 entries, 0 to 110526\n",
      "Data columns (total 14 columns):\n",
      " #   Column          Non-Null Count   Dtype              \n",
      "---  ------          --------------   -----              \n",
      " 0   PatientId       110527 non-null  float64            \n",
      " 1   AppointmentID   110527 non-null  int64              \n",
      " 2   Gender          110527 non-null  object             \n",
      " 3   ScheduledDay    110527 non-null  datetime64[ns, UTC]\n",
      " 4   AppointmentDay  110527 non-null  datetime64[ns, UTC]\n",
      " 5   Age             110527 non-null  int64              \n",
      " 6   Neighbourhood   110527 non-null  object             \n",
      " 7   Scholarship     110527 non-null  int64              \n",
      " 8   Hipertension    110527 non-null  int64              \n",
      " 9   Diabetes        110527 non-null  int64              \n",
      " 10  Alcoholism      110527 non-null  int64              \n",
      " 11  Handcap         110527 non-null  int64              \n",
      " 12  SMS_received    110527 non-null  int64              \n",
      " 13  No-show         110527 non-null  object             \n",
      "dtypes: datetime64[ns, UTC](2), float64(1), int64(8), object(3)\n",
      "memory usage: 11.8+ MB\n"
     ]
    }
   ],
   "source": [
    "df.info()"
   ]
  },
  {
   "cell_type": "markdown",
   "metadata": {
    "papermill": {
     "duration": 0.068357,
     "end_time": "2020-12-31T04:18:48.912744",
     "exception": false,
     "start_time": "2020-12-31T04:18:48.844387",
     "status": "completed"
    },
    "tags": []
   },
   "source": [
    "---"
   ]
  },
  {
   "cell_type": "markdown",
   "metadata": {
    "papermill": {
     "duration": 0.069611,
     "end_time": "2020-12-31T04:18:49.060934",
     "exception": false,
     "start_time": "2020-12-31T04:18:48.991323",
     "status": "completed"
    },
    "tags": []
   },
   "source": [
    "### (c) Missing Values"
   ]
  },
  {
   "cell_type": "code",
   "execution_count": 8,
   "metadata": {
    "execution": {
     "iopub.execute_input": "2020-12-31T04:18:49.205371Z",
     "iopub.status.busy": "2020-12-31T04:18:49.204595Z",
     "iopub.status.idle": "2020-12-31T04:18:49.443653Z",
     "shell.execute_reply": "2020-12-31T04:18:49.442812Z"
    },
    "papermill": {
     "duration": 0.31267,
     "end_time": "2020-12-31T04:18:49.443801",
     "exception": false,
     "start_time": "2020-12-31T04:18:49.131131",
     "status": "completed"
    },
    "tags": []
   },
   "outputs": [
    {
     "name": "stderr",
     "output_type": "stream",
     "text": [
      "/opt/conda/lib/python3.7/site-packages/ipykernel_launcher.py:1: FutureWarning: Treating datetime data as categorical rather than numeric in `.describe` is deprecated and will be removed in a future version of pandas. Specify `datetime_is_numeric=True` to silence this warning and adopt the future behavior now.\n",
      "  \"\"\"Entry point for launching an IPython kernel.\n",
      "/opt/conda/lib/python3.7/site-packages/ipykernel_launcher.py:1: FutureWarning: Treating datetime data as categorical rather than numeric in `.describe` is deprecated and will be removed in a future version of pandas. Specify `datetime_is_numeric=True` to silence this warning and adopt the future behavior now.\n",
      "  \"\"\"Entry point for launching an IPython kernel.\n"
     ]
    }
   ],
   "source": [
    "df.describe(include=\"all\");"
   ]
  },
  {
   "cell_type": "markdown",
   "metadata": {
    "papermill": {
     "duration": 0.073347,
     "end_time": "2020-12-31T04:18:49.586829",
     "exception": false,
     "start_time": "2020-12-31T04:18:49.513482",
     "status": "completed"
    },
    "tags": []
   },
   "source": [
    "- **There is no missing values in the dataset**\n",
    "---"
   ]
  },
  {
   "cell_type": "markdown",
   "metadata": {
    "papermill": {
     "duration": 0.070341,
     "end_time": "2020-12-31T04:18:49.726543",
     "exception": false,
     "start_time": "2020-12-31T04:18:49.656202",
     "status": "completed"
    },
    "tags": []
   },
   "source": [
    "### (d) Incorrect Values\n",
    "As in describe above there is 2 colums that may have a incorrect values:\n",
    "- Age : (the min value is -1)\n",
    "- Handcap : (the max value is 4)\n",
    "\n",
    "So we will investigate them more."
   ]
  },
  {
   "cell_type": "markdown",
   "metadata": {
    "papermill": {
     "duration": 0.0696,
     "end_time": "2020-12-31T04:18:49.866580",
     "exception": false,
     "start_time": "2020-12-31T04:18:49.796980",
     "status": "completed"
    },
    "tags": []
   },
   "source": [
    "#### investigating Age :"
   ]
  },
  {
   "cell_type": "code",
   "execution_count": 9,
   "metadata": {
    "execution": {
     "iopub.execute_input": "2020-12-31T04:18:50.029419Z",
     "iopub.status.busy": "2020-12-31T04:18:50.028608Z",
     "iopub.status.idle": "2020-12-31T04:18:50.041128Z",
     "shell.execute_reply": "2020-12-31T04:18:50.041695Z"
    },
    "papermill": {
     "duration": 0.104491,
     "end_time": "2020-12-31T04:18:50.041846",
     "exception": false,
     "start_time": "2020-12-31T04:18:49.937355",
     "status": "completed"
    },
    "tags": []
   },
   "outputs": [
    {
     "data": {
      "text/plain": [
       " 0      3539\n",
       " 1      2273\n",
       " 52     1746\n",
       " 49     1652\n",
       " 53     1651\n",
       "        ... \n",
       " 115       5\n",
       " 100       4\n",
       " 102       2\n",
       " 99        1\n",
       "-1         1\n",
       "Name: Age, Length: 104, dtype: int64"
      ]
     },
     "execution_count": 9,
     "metadata": {},
     "output_type": "execute_result"
    }
   ],
   "source": [
    "df.Age.value_counts()"
   ]
  },
  {
   "cell_type": "markdown",
   "metadata": {
    "papermill": {
     "duration": 0.069475,
     "end_time": "2020-12-31T04:18:50.200775",
     "exception": false,
     "start_time": "2020-12-31T04:18:50.131300",
     "status": "completed"
    },
    "tags": []
   },
   "source": [
    "- There is just 1 value = -1 : We will drop it."
   ]
  },
  {
   "cell_type": "code",
   "execution_count": 10,
   "metadata": {
    "execution": {
     "iopub.execute_input": "2020-12-31T04:18:50.349357Z",
     "iopub.status.busy": "2020-12-31T04:18:50.344580Z",
     "iopub.status.idle": "2020-12-31T04:18:50.367267Z",
     "shell.execute_reply": "2020-12-31T04:18:50.366518Z"
    },
    "papermill": {
     "duration": 0.09717,
     "end_time": "2020-12-31T04:18:50.367387",
     "exception": false,
     "start_time": "2020-12-31T04:18:50.270217",
     "status": "completed"
    },
    "tags": []
   },
   "outputs": [],
   "source": [
    "df.drop(df.query(\"Age == -1\").index,inplace=True)"
   ]
  },
  {
   "cell_type": "code",
   "execution_count": 11,
   "metadata": {
    "execution": {
     "iopub.execute_input": "2020-12-31T04:18:50.513192Z",
     "iopub.status.busy": "2020-12-31T04:18:50.512438Z",
     "iopub.status.idle": "2020-12-31T04:18:50.523560Z",
     "shell.execute_reply": "2020-12-31T04:18:50.524316Z"
    },
    "papermill": {
     "duration": 0.087328,
     "end_time": "2020-12-31T04:18:50.524478",
     "exception": false,
     "start_time": "2020-12-31T04:18:50.437150",
     "status": "completed"
    },
    "tags": []
   },
   "outputs": [
    {
     "data": {
      "text/plain": [
       "count    110526.000000\n",
       "mean         37.089219\n",
       "std          23.110026\n",
       "min           0.000000\n",
       "25%          18.000000\n",
       "50%          37.000000\n",
       "75%          55.000000\n",
       "max         115.000000\n",
       "Name: Age, dtype: float64"
      ]
     },
     "execution_count": 11,
     "metadata": {},
     "output_type": "execute_result"
    }
   ],
   "source": [
    "# Check Age\n",
    "df.Age.describe()"
   ]
  },
  {
   "cell_type": "markdown",
   "metadata": {
    "papermill": {
     "duration": 0.070111,
     "end_time": "2020-12-31T04:18:50.669093",
     "exception": false,
     "start_time": "2020-12-31T04:18:50.598982",
     "status": "completed"
    },
    "tags": []
   },
   "source": [
    "#### investigating Handcap :\n",
    "Handcap column has values from 1 to 4"
   ]
  },
  {
   "cell_type": "code",
   "execution_count": 12,
   "metadata": {
    "execution": {
     "iopub.execute_input": "2020-12-31T04:18:50.820241Z",
     "iopub.status.busy": "2020-12-31T04:18:50.819529Z",
     "iopub.status.idle": "2020-12-31T04:18:50.828198Z",
     "shell.execute_reply": "2020-12-31T04:18:50.828797Z"
    },
    "papermill": {
     "duration": 0.084423,
     "end_time": "2020-12-31T04:18:50.828958",
     "exception": false,
     "start_time": "2020-12-31T04:18:50.744535",
     "status": "completed"
    },
    "tags": []
   },
   "outputs": [
    {
     "data": {
      "text/plain": [
       "0    108285\n",
       "1      2042\n",
       "2       183\n",
       "3        13\n",
       "4         3\n",
       "Name: Handcap, dtype: int64"
      ]
     },
     "execution_count": 12,
     "metadata": {},
     "output_type": "execute_result"
    }
   ],
   "source": [
    "df.Handcap.value_counts()"
   ]
  },
  {
   "cell_type": "markdown",
   "metadata": {
    "papermill": {
     "duration": 0.081343,
     "end_time": "2020-12-31T04:18:50.981172",
     "exception": false,
     "start_time": "2020-12-31T04:18:50.899829",
     "status": "completed"
    },
    "tags": []
   },
   "source": [
    "**By doing some research on the dataset page:**\n",
    "\n",
    "Question regarding to Handcap : https://www.kaggle.com/joniarroba/noshowappointments/discussion/29699\n",
    "- \"... the handcap refers to the number of desabilites a person has.For example, if the person is blind and can't walk the total is 2.\"\n",
    "\n",
    "   ***will take notice of it if we decide use it.***\n",
    "---"
   ]
  },
  {
   "cell_type": "markdown",
   "metadata": {
    "papermill": {
     "duration": 0.074213,
     "end_time": "2020-12-31T04:18:51.129920",
     "exception": false,
     "start_time": "2020-12-31T04:18:51.055707",
     "status": "completed"
    },
    "tags": []
   },
   "source": [
    "### (e) Duplicates\n",
    "Investigate if there is duplicate records in the dataset"
   ]
  },
  {
   "cell_type": "code",
   "execution_count": 13,
   "metadata": {
    "execution": {
     "iopub.execute_input": "2020-12-31T04:18:51.277569Z",
     "iopub.status.busy": "2020-12-31T04:18:51.276878Z",
     "iopub.status.idle": "2020-12-31T04:18:51.381071Z",
     "shell.execute_reply": "2020-12-31T04:18:51.380255Z"
    },
    "papermill": {
     "duration": 0.180862,
     "end_time": "2020-12-31T04:18:51.381216",
     "exception": false,
     "start_time": "2020-12-31T04:18:51.200354",
     "status": "completed"
    },
    "tags": []
   },
   "outputs": [
    {
     "data": {
      "text/plain": [
       "0"
      ]
     },
     "execution_count": 13,
     "metadata": {},
     "output_type": "execute_result"
    }
   ],
   "source": [
    "df.duplicated().sum()"
   ]
  },
  {
   "cell_type": "code",
   "execution_count": 14,
   "metadata": {
    "execution": {
     "iopub.execute_input": "2020-12-31T04:18:51.532213Z",
     "iopub.status.busy": "2020-12-31T04:18:51.531259Z",
     "iopub.status.idle": "2020-12-31T04:18:51.558682Z",
     "shell.execute_reply": "2020-12-31T04:18:51.559232Z"
    },
    "papermill": {
     "duration": 0.105993,
     "end_time": "2020-12-31T04:18:51.559403",
     "exception": false,
     "start_time": "2020-12-31T04:18:51.453410",
     "status": "completed"
    },
    "tags": []
   },
   "outputs": [
    {
     "data": {
      "text/plain": [
       "0"
      ]
     },
     "execution_count": 14,
     "metadata": {},
     "output_type": "execute_result"
    }
   ],
   "source": [
    "# Check if there is rows with the same only patient id and appointment id\n",
    "df.duplicated([\"PatientId\",\"AppointmentID\"]).sum()"
   ]
  },
  {
   "cell_type": "markdown",
   "metadata": {
    "papermill": {
     "duration": 0.072306,
     "end_time": "2020-12-31T04:18:51.704695",
     "exception": false,
     "start_time": "2020-12-31T04:18:51.632389",
     "status": "completed"
    },
    "tags": []
   },
   "source": [
    "> **There is no duplicate values in the dataset**\n",
    "\n",
    "---"
   ]
  },
  {
   "cell_type": "markdown",
   "metadata": {
    "papermill": {
     "duration": 0.073223,
     "end_time": "2020-12-31T04:18:51.850774",
     "exception": false,
     "start_time": "2020-12-31T04:18:51.777551",
     "status": "completed"
    },
    "tags": []
   },
   "source": [
    "---\n",
    "## Assessing and cleaning Results:\n",
    "- The dataset has 110,527 records and 14 columns.\n",
    "- The data columns (ScheduledDay, AppointmentDay) needed to be converted to datetime data type\n",
    "- There were no missing values in the dataset.\n",
    "- The Age column has one value that was equal to -1 and we dropped the row that contained it.\n",
    "- The Handcap column has more than two values and with some research, we found that it refers to the number of disabilities a person has.\n",
    "- The dataset has no duplicates rows.\n",
    "\n",
    "\n",
    "---\n",
    "---"
   ]
  },
  {
   "cell_type": "markdown",
   "metadata": {
    "papermill": {
     "duration": 0.074076,
     "end_time": "2020-12-31T04:18:51.999664",
     "exception": false,
     "start_time": "2020-12-31T04:18:51.925588",
     "status": "completed"
    },
    "tags": []
   },
   "source": [
    "<a id='GE'></a>\n",
    "# 2) General Exploration of the dataset\n",
    "We will start by doing general exploration for the dataset "
   ]
  },
  {
   "cell_type": "code",
   "execution_count": 15,
   "metadata": {
    "execution": {
     "iopub.execute_input": "2020-12-31T04:18:52.150187Z",
     "iopub.status.busy": "2020-12-31T04:18:52.149169Z",
     "iopub.status.idle": "2020-12-31T04:18:52.201850Z",
     "shell.execute_reply": "2020-12-31T04:18:52.202840Z"
    },
    "papermill": {
     "duration": 0.130477,
     "end_time": "2020-12-31T04:18:52.202993",
     "exception": false,
     "start_time": "2020-12-31T04:18:52.072516",
     "status": "completed"
    },
    "tags": []
   },
   "outputs": [
    {
     "name": "stdout",
     "output_type": "stream",
     "text": [
      "<class 'pandas.core.frame.DataFrame'>\n",
      "Int64Index: 110526 entries, 0 to 110526\n",
      "Data columns (total 14 columns):\n",
      " #   Column          Non-Null Count   Dtype              \n",
      "---  ------          --------------   -----              \n",
      " 0   PatientId       110526 non-null  float64            \n",
      " 1   AppointmentID   110526 non-null  int64              \n",
      " 2   Gender          110526 non-null  object             \n",
      " 3   ScheduledDay    110526 non-null  datetime64[ns, UTC]\n",
      " 4   AppointmentDay  110526 non-null  datetime64[ns, UTC]\n",
      " 5   Age             110526 non-null  int64              \n",
      " 6   Neighbourhood   110526 non-null  object             \n",
      " 7   Scholarship     110526 non-null  int64              \n",
      " 8   Hipertension    110526 non-null  int64              \n",
      " 9   Diabetes        110526 non-null  int64              \n",
      " 10  Alcoholism      110526 non-null  int64              \n",
      " 11  Handcap         110526 non-null  int64              \n",
      " 12  SMS_received    110526 non-null  int64              \n",
      " 13  No-show         110526 non-null  object             \n",
      "dtypes: datetime64[ns, UTC](2), float64(1), int64(8), object(3)\n",
      "memory usage: 12.6+ MB\n"
     ]
    }
   ],
   "source": [
    "df.info()"
   ]
  },
  {
   "cell_type": "markdown",
   "metadata": {
    "papermill": {
     "duration": 0.072935,
     "end_time": "2020-12-31T04:18:52.348311",
     "exception": false,
     "start_time": "2020-12-31T04:18:52.275376",
     "status": "completed"
    },
    "tags": []
   },
   "source": [
    "---\n",
    "### The ratio between males and females"
   ]
  },
  {
   "cell_type": "code",
   "execution_count": 16,
   "metadata": {
    "execution": {
     "iopub.execute_input": "2020-12-31T04:18:52.497336Z",
     "iopub.status.busy": "2020-12-31T04:18:52.496683Z",
     "iopub.status.idle": "2020-12-31T04:18:52.824059Z",
     "shell.execute_reply": "2020-12-31T04:18:52.823494Z"
    },
    "papermill": {
     "duration": 0.40285,
     "end_time": "2020-12-31T04:18:52.824180",
     "exception": false,
     "start_time": "2020-12-31T04:18:52.421330",
     "status": "completed"
    },
    "tags": []
   },
   "outputs": [
    {
     "name": "stdout",
     "output_type": "stream",
     "text": [
      "F    65.0\n",
      "M    35.0\n",
      "Name: Gender, dtype: float64\n"
     ]
    },
    {
     "data": {
      "image/png": "[encoded data removed]",
      "text/plain": [
       "<Figure size 432x288 with 1 Axes>"
      ]
     },
     "metadata": {
      "needs_background": "light"
     },
     "output_type": "display_data"
    }
   ],
   "source": [
    "print(round(df.Gender.value_counts()/len(df)*100))\n",
    "#\n",
    "df.Gender.value_counts().plot(kind=\"bar\")\n",
    "plt.title(\"Gender\");"
   ]
  },
  {
   "cell_type": "code",
   "execution_count": 17,
   "metadata": {
    "execution": {
     "iopub.execute_input": "2020-12-31T04:18:53.009234Z",
     "iopub.status.busy": "2020-12-31T04:18:53.006929Z",
     "iopub.status.idle": "2020-12-31T04:18:53.069977Z",
     "shell.execute_reply": "2020-12-31T04:18:53.069390Z"
    },
    "papermill": {
     "duration": 0.172526,
     "end_time": "2020-12-31T04:18:53.070113",
     "exception": false,
     "start_time": "2020-12-31T04:18:52.897587",
     "status": "completed"
    },
    "tags": []
   },
   "outputs": [
    {
     "data": {
      "image/png": "[encoded data removed]",
      "text/plain": [
       "<Figure size 432x288 with 1 Axes>"
      ]
     },
     "metadata": {},
     "output_type": "display_data"
    }
   ],
   "source": [
    "df[\"Gender\"].value_counts().plot(kind=\"pie\",labels=[\"Females\",\"Males\"],   autopct='%1.0f%%')\n",
    "plt.ylabel(\"Count\")\n",
    "plt.title(\"Gender\");"
   ]
  },
  {
   "cell_type": "code",
   "execution_count": 18,
   "metadata": {
    "execution": {
     "iopub.execute_input": "2020-12-31T04:18:53.246064Z",
     "iopub.status.busy": "2020-12-31T04:18:53.245067Z",
     "iopub.status.idle": "2020-12-31T04:18:53.301770Z",
     "shell.execute_reply": "2020-12-31T04:18:53.302348Z"
    },
    "papermill": {
     "duration": 0.157088,
     "end_time": "2020-12-31T04:18:53.302509",
     "exception": false,
     "start_time": "2020-12-31T04:18:53.145421",
     "status": "completed"
    },
    "tags": []
   },
   "outputs": [
    {
     "name": "stdout",
     "output_type": "stream",
     "text": [
      "The ratio of females to males : (71839:38687) -> 1.86\n"
     ]
    }
   ],
   "source": [
    "print(\"The ratio of females to males : (\",(df.Gender == \"F\").sum() ,\":\", (df.Gender == \"M\").sum() ,\") -> \", round((df.Gender == \"F\").sum() / (df.Gender == \"M\").sum(),2),sep=\"\" )"
   ]
  },
  {
   "cell_type": "markdown",
   "metadata": {
    "papermill": {
     "duration": 0.07477,
     "end_time": "2020-12-31T04:18:53.453006",
     "exception": false,
     "start_time": "2020-12-31T04:18:53.378236",
     "status": "completed"
    },
    "tags": []
   },
   "source": [
    "> **The proportion of females is greater than that of males** (the number of females is near twice the number of men)"
   ]
  },
  {
   "cell_type": "markdown",
   "metadata": {
    "papermill": {
     "duration": 0.082073,
     "end_time": "2020-12-31T04:18:53.611386",
     "exception": false,
     "start_time": "2020-12-31T04:18:53.529313",
     "status": "completed"
    },
    "tags": []
   },
   "source": [
    "---\n",
    "### The period in which the data is collected\n",
    "- Explorting (ScheduledDay, AppointmentDay) columns"
   ]
  },
  {
   "cell_type": "code",
   "execution_count": 19,
   "metadata": {
    "execution": {
     "iopub.execute_input": "2020-12-31T04:18:53.773102Z",
     "iopub.status.busy": "2020-12-31T04:18:53.772013Z",
     "iopub.status.idle": "2020-12-31T04:18:53.812639Z",
     "shell.execute_reply": "2020-12-31T04:18:53.812066Z"
    },
    "papermill": {
     "duration": 0.125502,
     "end_time": "2020-12-31T04:18:53.812758",
     "exception": false,
     "start_time": "2020-12-31T04:18:53.687256",
     "status": "completed"
    },
    "tags": []
   },
   "outputs": [
    {
     "name": "stderr",
     "output_type": "stream",
     "text": [
      "/opt/conda/lib/python3.7/site-packages/ipykernel_launcher.py:1: FutureWarning: Treating datetime data as categorical rather than numeric in `.describe` is deprecated and will be removed in a future version of pandas. Specify `datetime_is_numeric=True` to silence this warning and adopt the future behavior now.\n",
      "  \"\"\"Entry point for launching an IPython kernel.\n",
      "/opt/conda/lib/python3.7/site-packages/ipykernel_launcher.py:1: FutureWarning: Treating datetime data as categorical rather than numeric in `.describe` is deprecated and will be removed in a future version of pandas. Specify `datetime_is_numeric=True` to silence this warning and adopt the future behavior now.\n",
      "  \"\"\"Entry point for launching an IPython kernel.\n"
     ]
    },
    {
     "data": {
      "text/html": [
       "<div>\n",
       "<style scoped>\n",
       "    .dataframe tbody tr th:only-of-type {\n",
       "        vertical-align: middle;\n",
       "    }\n",
       "\n",
       "    .dataframe tbody tr th {\n",
       "        vertical-align: top;\n",
       "    }\n",
       "\n",
       "    .dataframe thead th {\n",
       "        text-align: right;\n",
       "    }\n",
       "</style>\n",
       "<table border=\"1\" class=\"dataframe\">\n",
       "  <thead>\n",
       "    <tr style=\"text-align: right;\">\n",
       "      <th></th>\n",
       "      <th>ScheduledDay</th>\n",
       "      <th>AppointmentDay</th>\n",
       "    </tr>\n",
       "  </thead>\n",
       "  <tbody>\n",
       "    <tr>\n",
       "      <th>count</th>\n",
       "      <td>110526</td>\n",
       "      <td>110526</td>\n",
       "    </tr>\n",
       "    <tr>\n",
       "      <th>unique</th>\n",
       "      <td>103548</td>\n",
       "      <td>27</td>\n",
       "    </tr>\n",
       "    <tr>\n",
       "      <th>top</th>\n",
       "      <td>2016-05-06 07:09:54+00:00</td>\n",
       "      <td>2016-06-06 00:00:00+00:00</td>\n",
       "    </tr>\n",
       "    <tr>\n",
       "      <th>freq</th>\n",
       "      <td>24</td>\n",
       "      <td>4691</td>\n",
       "    </tr>\n",
       "    <tr>\n",
       "      <th>first</th>\n",
       "      <td>2015-11-10 07:13:56+00:00</td>\n",
       "      <td>2016-04-29 00:00:00+00:00</td>\n",
       "    </tr>\n",
       "    <tr>\n",
       "      <th>last</th>\n",
       "      <td>2016-06-08 20:07:23+00:00</td>\n",
       "      <td>2016-06-08 00:00:00+00:00</td>\n",
       "    </tr>\n",
       "  </tbody>\n",
       "</table>\n",
       "</div>"
      ],
      "text/plain": [
       "                     ScheduledDay             AppointmentDay\n",
       "count                      110526                     110526\n",
       "unique                     103548                         27\n",
       "top     2016-05-06 07:09:54+00:00  2016-06-06 00:00:00+00:00\n",
       "freq                           24                       4691\n",
       "first   2015-11-10 07:13:56+00:00  2016-04-29 00:00:00+00:00\n",
       "last    2016-06-08 20:07:23+00:00  2016-06-08 00:00:00+00:00"
      ]
     },
     "execution_count": 19,
     "metadata": {},
     "output_type": "execute_result"
    }
   ],
   "source": [
    "df[[\"ScheduledDay\",\"AppointmentDay\"]].describe()"
   ]
  },
  {
   "cell_type": "code",
   "execution_count": 20,
   "metadata": {
    "execution": {
     "iopub.execute_input": "2020-12-31T04:18:54.055939Z",
     "iopub.status.busy": "2020-12-31T04:18:54.020442Z",
     "iopub.status.idle": "2020-12-31T04:18:54.194222Z",
     "shell.execute_reply": "2020-12-31T04:18:54.193664Z"
    },
    "papermill": {
     "duration": 0.303744,
     "end_time": "2020-12-31T04:18:54.194340",
     "exception": false,
     "start_time": "2020-12-31T04:18:53.890596",
     "status": "completed"
    },
    "tags": []
   },
   "outputs": [
    {
     "data": {
      "text/plain": [
       "(27, 1)"
      ]
     },
     "execution_count": 20,
     "metadata": {},
     "output_type": "execute_result"
    }
   ],
   "source": [
    "# the unique values for date and time parts for 'AppointmentDay'\n",
    "df.AppointmentDay.dt.date.value_counts().count() , df.AppointmentDay.dt.time.value_counts().count()"
   ]
  },
  {
   "cell_type": "code",
   "execution_count": 21,
   "metadata": {
    "execution": {
     "iopub.execute_input": "2020-12-31T04:18:54.447561Z",
     "iopub.status.busy": "2020-12-31T04:18:54.435201Z",
     "iopub.status.idle": "2020-12-31T04:18:54.608014Z",
     "shell.execute_reply": "2020-12-31T04:18:54.608549Z"
    },
    "papermill": {
     "duration": 0.338163,
     "end_time": "2020-12-31T04:18:54.608707",
     "exception": false,
     "start_time": "2020-12-31T04:18:54.270544",
     "status": "completed"
    },
    "tags": []
   },
   "outputs": [
    {
     "data": {
      "text/plain": [
       "(111, 37109)"
      ]
     },
     "execution_count": 21,
     "metadata": {},
     "output_type": "execute_result"
    }
   ],
   "source": [
    "# the unique values for date and time parts for 'ScheduledDay'\n",
    "df.ScheduledDay.dt.date.value_counts().count() , df.ScheduledDay.dt.time.value_counts().count() "
   ]
  },
  {
   "cell_type": "markdown",
   "metadata": {
    "papermill": {
     "duration": 0.077707,
     "end_time": "2020-12-31T04:18:54.764734",
     "exception": false,
     "start_time": "2020-12-31T04:18:54.687027",
     "status": "completed"
    },
    "tags": []
   },
   "source": [
    "- **AppointmentDay** :\n",
    "    - 2016-04-29 -> 2016-06-08\n",
    "    - 27 unique value\n",
    "    - There is no time part (all = 00:00:00)\n",
    "    \n",
    "    \n",
    "- **ScheduledDay** :\n",
    "    - 2015-11-10 -> 2016-06-08\n",
    "    - 111 unique date value\n",
    "    - There is time part for each record"
   ]
  },
  {
   "cell_type": "code",
   "execution_count": 22,
   "metadata": {
    "execution": {
     "iopub.execute_input": "2020-12-31T04:18:54.977557Z",
     "iopub.status.busy": "2020-12-31T04:18:54.929634Z",
     "iopub.status.idle": "2020-12-31T04:18:55.211649Z",
     "shell.execute_reply": "2020-12-31T04:18:55.212186Z"
    },
    "papermill": {
     "duration": 0.367745,
     "end_time": "2020-12-31T04:18:55.212362",
     "exception": false,
     "start_time": "2020-12-31T04:18:54.844617",
     "status": "completed"
    },
    "tags": []
   },
   "outputs": [
    {
     "data": {
      "text/plain": [
       "Text(0.5, 1.0, \"'ScheduledDay' Line chart\")"
      ]
     },
     "execution_count": 22,
     "metadata": {},
     "output_type": "execute_result"
    },
    {
     "data": {
      "image/png": "[encoded data removed]",
      "text/plain": [
       "<Figure size 720x288 with 1 Axes>"
      ]
     },
     "metadata": {
      "needs_background": "light"
     },
     "output_type": "display_data"
    }
   ],
   "source": [
    "# line chart plot for 'ScheduledDay'\n",
    "df.ScheduledDay.dt.date.value_counts().plot(kind=\"line\",figsize=(10,4));\n",
    "plt.xlabel(\"ScheduledDay\")\n",
    "plt.ylabel(\"Count\")\n",
    "plt.title(\"'ScheduledDay' Line chart\")"
   ]
  },
  {
   "cell_type": "code",
   "execution_count": null,
   "metadata": {
    "jupyter": {
     "source_hidden": true
    },
    "papermill": {
     "duration": 0.080817,
     "end_time": "2020-12-31T04:18:55.372362",
     "exception": false,
     "start_time": "2020-12-31T04:18:55.291545",
     "status": "completed"
    },
    "tags": []
   },
   "outputs": [],
   "source": []
  },
  {
   "cell_type": "code",
   "execution_count": 23,
   "metadata": {
    "execution": {
     "iopub.execute_input": "2020-12-31T04:18:55.545470Z",
     "iopub.status.busy": "2020-12-31T04:18:55.544732Z",
     "iopub.status.idle": "2020-12-31T04:18:55.782866Z",
     "shell.execute_reply": "2020-12-31T04:18:55.783528Z"
    },
    "papermill": {
     "duration": 0.330365,
     "end_time": "2020-12-31T04:18:55.783693",
     "exception": false,
     "start_time": "2020-12-31T04:18:55.453328",
     "status": "completed"
    },
    "tags": []
   },
   "outputs": [
    {
     "data": {
      "text/plain": [
       "Text(0.5, 1.0, \"'ScheduledDay' Histogram\")"
      ]
     },
     "execution_count": 23,
     "metadata": {},
     "output_type": "execute_result"
    },
    {
     "data": {
      "image/png": "[encoded data removed]",
      "text/plain": [
       "<Figure size 720x288 with 1 Axes>"
      ]
     },
     "metadata": {
      "needs_background": "light"
     },
     "output_type": "display_data"
    }
   ],
   "source": [
    "# histogram plot for 'ScheduledDay'\n",
    "df.ScheduledDay.hist(bins=30,figsize=(10,4));\n",
    "plt.xlabel(\"ScheduledDay\")\n",
    "plt.ylabel(\"Count\")\n",
    "plt.title(\"'ScheduledDay' Histogram\")"
   ]
  },
  {
   "cell_type": "code",
   "execution_count": 24,
   "metadata": {
    "execution": {
     "iopub.execute_input": "2020-12-31T04:18:55.952242Z",
     "iopub.status.busy": "2020-12-31T04:18:55.951485Z",
     "iopub.status.idle": "2020-12-31T04:18:56.214596Z",
     "shell.execute_reply": "2020-12-31T04:18:56.215186Z"
    },
    "papermill": {
     "duration": 0.349876,
     "end_time": "2020-12-31T04:18:56.215353",
     "exception": false,
     "start_time": "2020-12-31T04:18:55.865477",
     "status": "completed"
    },
    "tags": []
   },
   "outputs": [
    {
     "data": {
      "text/plain": [
       "Text(0.5, 1.0, \"'AppointmentDay' Line chart\")"
      ]
     },
     "execution_count": 24,
     "metadata": {},
     "output_type": "execute_result"
    },
    {
     "data": {
      "image/png": "[encoded data removed]",
      "text/plain": [
       "<Figure size 720x288 with 1 Axes>"
      ]
     },
     "metadata": {
      "needs_background": "light"
     },
     "output_type": "display_data"
    }
   ],
   "source": [
    "# line chart plot for 'ScheduledDay'\n",
    "df.AppointmentDay.dt.date.value_counts().plot(kind=\"line\",figsize=(10,4));\n",
    "plt.xlabel(\"AppointmentDay\")\n",
    "plt.ylabel(\"Count\")\n",
    "plt.title(\"'AppointmentDay' Line chart\")"
   ]
  },
  {
   "cell_type": "code",
   "execution_count": 25,
   "metadata": {
    "execution": {
     "iopub.execute_input": "2020-12-31T04:18:56.386253Z",
     "iopub.status.busy": "2020-12-31T04:18:56.385316Z",
     "iopub.status.idle": "2020-12-31T04:18:56.611157Z",
     "shell.execute_reply": "2020-12-31T04:18:56.610600Z"
    },
    "papermill": {
     "duration": 0.311616,
     "end_time": "2020-12-31T04:18:56.611284",
     "exception": false,
     "start_time": "2020-12-31T04:18:56.299668",
     "status": "completed"
    },
    "tags": []
   },
   "outputs": [
    {
     "data": {
      "text/plain": [
       "Text(0.5, 1.0, \"'AppointmentDay' Histogram\")"
      ]
     },
     "execution_count": 25,
     "metadata": {},
     "output_type": "execute_result"
    },
    {
     "data": {
      "image/png": "[encoded data removed]",
      "text/plain": [
       "<Figure size 720x288 with 1 Axes>"
      ]
     },
     "metadata": {
      "needs_background": "light"
     },
     "output_type": "display_data"
    }
   ],
   "source": [
    "# # histogram for 'AppointmentDay'\n",
    "df.AppointmentDay.hist(bins=30,figsize=(10,4));\n",
    "plt.xlabel(\"AppointmentDay\")\n",
    "plt.ylabel(\"Count\")\n",
    "plt.title(\"'AppointmentDay' Histogram\")"
   ]
  },
  {
   "cell_type": "code",
   "execution_count": 26,
   "metadata": {
    "execution": {
     "iopub.execute_input": "2020-12-31T04:18:56.787997Z",
     "iopub.status.busy": "2020-12-31T04:18:56.787215Z",
     "iopub.status.idle": "2020-12-31T04:18:57.940022Z",
     "shell.execute_reply": "2020-12-31T04:18:57.939435Z"
    },
    "papermill": {
     "duration": 1.244554,
     "end_time": "2020-12-31T04:18:57.940172",
     "exception": false,
     "start_time": "2020-12-31T04:18:56.695618",
     "status": "completed"
    },
    "tags": []
   },
   "outputs": [
    {
     "data": {
      "image/png": "[encoded data removed]",
      "text/plain": [
       "<Figure size 432x288 with 1 Axes>"
      ]
     },
     "metadata": {
      "needs_background": "light"
     },
     "output_type": "display_data"
    }
   ],
   "source": [
    "# Scatter plot for the relationship between ScheduledDay and AppointmentDay\n",
    "df.plot(kind=\"scatter\", x=\"ScheduledDay\",y=\"AppointmentDay\");\n",
    "plt.title(\"relationship between ScheduledDay and AppointmentDay\");"
   ]
  },
  {
   "cell_type": "markdown",
   "metadata": {
    "papermill": {
     "duration": 0.089518,
     "end_time": "2020-12-31T04:18:58.113941",
     "exception": false,
     "start_time": "2020-12-31T04:18:58.024423",
     "status": "completed"
    },
    "tags": []
   },
   "source": [
    "---\n",
    "### Age Exploration"
   ]
  },
  {
   "cell_type": "code",
   "execution_count": 27,
   "metadata": {
    "execution": {
     "iopub.execute_input": "2020-12-31T04:18:58.288113Z",
     "iopub.status.busy": "2020-12-31T04:18:58.287263Z",
     "iopub.status.idle": "2020-12-31T04:18:58.299258Z",
     "shell.execute_reply": "2020-12-31T04:18:58.299871Z"
    },
    "papermill": {
     "duration": 0.101611,
     "end_time": "2020-12-31T04:18:58.300029",
     "exception": false,
     "start_time": "2020-12-31T04:18:58.198418",
     "status": "completed"
    },
    "tags": []
   },
   "outputs": [
    {
     "data": {
      "text/plain": [
       "count    110526.000000\n",
       "mean         37.089219\n",
       "std          23.110026\n",
       "min           0.000000\n",
       "25%          18.000000\n",
       "50%          37.000000\n",
       "75%          55.000000\n",
       "max         115.000000\n",
       "Name: Age, dtype: float64"
      ]
     },
     "execution_count": 27,
     "metadata": {},
     "output_type": "execute_result"
    }
   ],
   "source": [
    "# Basic info about Age\n",
    "df.Age.describe()"
   ]
  },
  {
   "cell_type": "code",
   "execution_count": 28,
   "metadata": {
    "execution": {
     "iopub.execute_input": "2020-12-31T04:18:58.556642Z",
     "iopub.status.busy": "2020-12-31T04:18:58.481508Z",
     "iopub.status.idle": "2020-12-31T04:18:58.776814Z",
     "shell.execute_reply": "2020-12-31T04:18:58.776203Z"
    },
    "papermill": {
     "duration": 0.391508,
     "end_time": "2020-12-31T04:18:58.776929",
     "exception": false,
     "start_time": "2020-12-31T04:18:58.385421",
     "status": "completed"
    },
    "tags": []
   },
   "outputs": [
    {
     "data": {
      "image/png": "[encoded data removed]",
      "text/plain": [
       "<Figure size 1440x432 with 1 Axes>"
      ]
     },
     "metadata": {
      "needs_background": "light"
     },
     "output_type": "display_data"
    }
   ],
   "source": [
    "# Histogram plot of Age\n",
    "df.Age.hist(bins=25,figsize=(20,6)) \n",
    "plt.xlabel(\"Age\") \n",
    "plt.ylabel(\"Count\") \n",
    "plt.title(\"Age Histogram\");"
   ]
  },
  {
   "cell_type": "code",
   "execution_count": 29,
   "metadata": {
    "execution": {
     "iopub.execute_input": "2020-12-31T04:18:58.954726Z",
     "iopub.status.busy": "2020-12-31T04:18:58.953909Z",
     "iopub.status.idle": "2020-12-31T04:18:58.956374Z",
     "shell.execute_reply": "2020-12-31T04:18:58.957025Z"
    },
    "papermill": {
     "duration": 0.093032,
     "end_time": "2020-12-31T04:18:58.957230",
     "exception": false,
     "start_time": "2020-12-31T04:18:58.864198",
     "status": "completed"
    },
    "tags": []
   },
   "outputs": [],
   "source": [
    "#df.Age.plot(kind=\"pie\")"
   ]
  },
  {
   "cell_type": "markdown",
   "metadata": {
    "papermill": {
     "duration": 0.087538,
     "end_time": "2020-12-31T04:18:59.131023",
     "exception": false,
     "start_time": "2020-12-31T04:18:59.043485",
     "status": "completed"
    },
    "tags": []
   },
   "source": [
    "---\n",
    "### Neighbourhood\n"
   ]
  },
  {
   "cell_type": "code",
   "execution_count": 30,
   "metadata": {
    "execution": {
     "iopub.execute_input": "2020-12-31T04:18:59.307759Z",
     "iopub.status.busy": "2020-12-31T04:18:59.306977Z",
     "iopub.status.idle": "2020-12-31T04:18:59.344977Z",
     "shell.execute_reply": "2020-12-31T04:18:59.345681Z"
    },
    "papermill": {
     "duration": 0.12753,
     "end_time": "2020-12-31T04:18:59.345838",
     "exception": false,
     "start_time": "2020-12-31T04:18:59.218308",
     "status": "completed"
    },
    "tags": []
   },
   "outputs": [
    {
     "data": {
      "text/plain": [
       "JARDIM CAMBURI                 7717\n",
       "MARIA ORTIZ                    5805\n",
       "RESISTÊNCIA                    4431\n",
       "JARDIM DA PENHA                3877\n",
       "ITARARÉ                        3514\n",
       "                               ... \n",
       "ILHA DO BOI                      35\n",
       "ILHA DO FRADE                    10\n",
       "AEROPORTO                         8\n",
       "ILHAS OCEÂNICAS DE TRINDADE       2\n",
       "PARQUE INDUSTRIAL                 1\n",
       "Name: Neighbourhood, Length: 81, dtype: int64"
      ]
     },
     "execution_count": 30,
     "metadata": {},
     "output_type": "execute_result"
    }
   ],
   "source": [
    "df.Neighbourhood.value_counts()"
   ]
  },
  {
   "cell_type": "code",
   "execution_count": 31,
   "metadata": {
    "execution": {
     "iopub.execute_input": "2020-12-31T04:18:59.571172Z",
     "iopub.status.busy": "2020-12-31T04:18:59.546547Z",
     "iopub.status.idle": "2020-12-31T04:19:00.674400Z",
     "shell.execute_reply": "2020-12-31T04:19:00.673814Z"
    },
    "papermill": {
     "duration": 1.234047,
     "end_time": "2020-12-31T04:19:00.674531",
     "exception": false,
     "start_time": "2020-12-31T04:18:59.440484",
     "status": "completed"
    },
    "tags": []
   },
   "outputs": [
    {
     "data": {
      "image/png": "[encoded data removed]",
      "text/plain": [
       "<Figure size 1440x360 with 1 Axes>"
      ]
     },
     "metadata": {
      "needs_background": "light"
     },
     "output_type": "display_data"
    }
   ],
   "source": [
    "df.Neighbourhood.value_counts().plot(kind=\"bar\",figsize=(20,5));"
   ]
  },
  {
   "cell_type": "markdown",
   "metadata": {
    "papermill": {
     "duration": 0.08915,
     "end_time": "2020-12-31T04:19:00.854160",
     "exception": false,
     "start_time": "2020-12-31T04:19:00.765010",
     "status": "completed"
    },
    "tags": []
   },
   "source": [
    "---"
   ]
  },
  {
   "cell_type": "code",
   "execution_count": 32,
   "metadata": {
    "execution": {
     "iopub.execute_input": "2020-12-31T04:19:01.039392Z",
     "iopub.status.busy": "2020-12-31T04:19:01.038540Z",
     "iopub.status.idle": "2020-12-31T04:19:01.042237Z",
     "shell.execute_reply": "2020-12-31T04:19:01.041637Z"
    },
    "papermill": {
     "duration": 0.098942,
     "end_time": "2020-12-31T04:19:01.042356",
     "exception": false,
     "start_time": "2020-12-31T04:19:00.943414",
     "status": "completed"
    },
    "tags": []
   },
   "outputs": [],
   "source": [
    "# function to find the value counts percentage and plot barplot figure\n",
    "def percent_and_barplot(col):\n",
    "    print(round(df[col].value_counts()/len(df)*100,2))\n",
    "    df[col].value_counts().plot(kind=\"bar\")\n",
    "    plt.ylabel(\"Count\")\n",
    "    plt.title(col);"
   ]
  },
  {
   "cell_type": "markdown",
   "metadata": {
    "papermill": {
     "duration": 0.088675,
     "end_time": "2020-12-31T04:19:01.220075",
     "exception": false,
     "start_time": "2020-12-31T04:19:01.131400",
     "status": "completed"
    },
    "tags": []
   },
   "source": [
    "---\n",
    "### Scholarship"
   ]
  },
  {
   "cell_type": "code",
   "execution_count": 33,
   "metadata": {
    "execution": {
     "iopub.execute_input": "2020-12-31T04:19:01.410006Z",
     "iopub.status.busy": "2020-12-31T04:19:01.408957Z",
     "iopub.status.idle": "2020-12-31T04:19:01.543163Z",
     "shell.execute_reply": "2020-12-31T04:19:01.542556Z"
    },
    "papermill": {
     "duration": 0.228191,
     "end_time": "2020-12-31T04:19:01.543281",
     "exception": false,
     "start_time": "2020-12-31T04:19:01.315090",
     "status": "completed"
    },
    "tags": []
   },
   "outputs": [
    {
     "name": "stdout",
     "output_type": "stream",
     "text": [
      "0    90.17\n",
      "1     9.83\n",
      "Name: Scholarship, dtype: float64\n"
     ]
    },
    {
     "data": {
      "image/png": "[encoded data removed]",
      "text/plain": [
       "<Figure size 432x288 with 1 Axes>"
      ]
     },
     "metadata": {
      "needs_background": "light"
     },
     "output_type": "display_data"
    }
   ],
   "source": [
    "percent_and_barplot(\"Scholarship\")"
   ]
  },
  {
   "cell_type": "markdown",
   "metadata": {
    "papermill": {
     "duration": 0.089444,
     "end_time": "2020-12-31T04:19:01.723505",
     "exception": false,
     "start_time": "2020-12-31T04:19:01.634061",
     "status": "completed"
    },
    "tags": []
   },
   "source": [
    "---"
   ]
  },
  {
   "cell_type": "markdown",
   "metadata": {
    "papermill": {
     "duration": 0.09176,
     "end_time": "2020-12-31T04:19:01.908178",
     "exception": false,
     "start_time": "2020-12-31T04:19:01.816418",
     "status": "completed"
    },
    "tags": []
   },
   "source": [
    "### Hipertension"
   ]
  },
  {
   "cell_type": "code",
   "execution_count": 34,
   "metadata": {
    "execution": {
     "iopub.execute_input": "2020-12-31T04:19:02.096380Z",
     "iopub.status.busy": "2020-12-31T04:19:02.095667Z",
     "iopub.status.idle": "2020-12-31T04:19:02.218096Z",
     "shell.execute_reply": "2020-12-31T04:19:02.217371Z"
    },
    "papermill": {
     "duration": 0.218111,
     "end_time": "2020-12-31T04:19:02.218239",
     "exception": false,
     "start_time": "2020-12-31T04:19:02.000128",
     "status": "completed"
    },
    "tags": []
   },
   "outputs": [
    {
     "name": "stdout",
     "output_type": "stream",
     "text": [
      "0    80.28\n",
      "1    19.72\n",
      "Name: Hipertension, dtype: float64\n"
     ]
    },
    {
     "data": {
      "image/png": "[encoded data removed]",
      "text/plain": [
       "<Figure size 432x288 with 1 Axes>"
      ]
     },
     "metadata": {
      "needs_background": "light"
     },
     "output_type": "display_data"
    }
   ],
   "source": [
    "percent_and_barplot(\"Hipertension\")"
   ]
  },
  {
   "cell_type": "markdown",
   "metadata": {
    "papermill": {
     "duration": 0.091031,
     "end_time": "2020-12-31T04:19:02.399787",
     "exception": false,
     "start_time": "2020-12-31T04:19:02.308756",
     "status": "completed"
    },
    "tags": []
   },
   "source": [
    "### Diabetes"
   ]
  },
  {
   "cell_type": "code",
   "execution_count": 35,
   "metadata": {
    "execution": {
     "iopub.execute_input": "2020-12-31T04:19:02.590268Z",
     "iopub.status.busy": "2020-12-31T04:19:02.589545Z",
     "iopub.status.idle": "2020-12-31T04:19:02.716366Z",
     "shell.execute_reply": "2020-12-31T04:19:02.716893Z"
    },
    "papermill": {
     "duration": 0.225403,
     "end_time": "2020-12-31T04:19:02.717088",
     "exception": false,
     "start_time": "2020-12-31T04:19:02.491685",
     "status": "completed"
    },
    "tags": []
   },
   "outputs": [
    {
     "name": "stdout",
     "output_type": "stream",
     "text": [
      "0    92.81\n",
      "1     7.19\n",
      "Name: Diabetes, dtype: float64\n"
     ]
    },
    {
     "data": {
      "image/png": "[encoded data removed]",
      "text/plain": [
       "<Figure size 432x288 with 1 Axes>"
      ]
     },
     "metadata": {
      "needs_background": "light"
     },
     "output_type": "display_data"
    }
   ],
   "source": [
    "percent_and_barplot(\"Diabetes\");"
   ]
  },
  {
   "cell_type": "markdown",
   "metadata": {
    "papermill": {
     "duration": 0.093488,
     "end_time": "2020-12-31T04:19:02.902848",
     "exception": false,
     "start_time": "2020-12-31T04:19:02.809360",
     "status": "completed"
    },
    "tags": []
   },
   "source": [
    "### Alcoholism"
   ]
  },
  {
   "cell_type": "code",
   "execution_count": 36,
   "metadata": {
    "execution": {
     "iopub.execute_input": "2020-12-31T04:19:03.095723Z",
     "iopub.status.busy": "2020-12-31T04:19:03.094931Z",
     "iopub.status.idle": "2020-12-31T04:19:03.221018Z",
     "shell.execute_reply": "2020-12-31T04:19:03.221592Z"
    },
    "papermill": {
     "duration": 0.224959,
     "end_time": "2020-12-31T04:19:03.221740",
     "exception": false,
     "start_time": "2020-12-31T04:19:02.996781",
     "status": "completed"
    },
    "tags": []
   },
   "outputs": [
    {
     "name": "stdout",
     "output_type": "stream",
     "text": [
      "0    96.96\n",
      "1     3.04\n",
      "Name: Alcoholism, dtype: float64\n"
     ]
    },
    {
     "data": {
      "image/png": "[encoded data removed]",
      "text/plain": [
       "<Figure size 432x288 with 1 Axes>"
      ]
     },
     "metadata": {
      "needs_background": "light"
     },
     "output_type": "display_data"
    }
   ],
   "source": [
    "percent_and_barplot(\"Alcoholism\");"
   ]
  },
  {
   "cell_type": "markdown",
   "metadata": {
    "papermill": {
     "duration": 0.093843,
     "end_time": "2020-12-31T04:19:03.408744",
     "exception": false,
     "start_time": "2020-12-31T04:19:03.314901",
     "status": "completed"
    },
    "tags": []
   },
   "source": [
    "### Handcap"
   ]
  },
  {
   "cell_type": "code",
   "execution_count": 37,
   "metadata": {
    "execution": {
     "iopub.execute_input": "2020-12-31T04:19:03.602111Z",
     "iopub.status.busy": "2020-12-31T04:19:03.601379Z",
     "iopub.status.idle": "2020-12-31T04:19:03.739894Z",
     "shell.execute_reply": "2020-12-31T04:19:03.739252Z"
    },
    "papermill": {
     "duration": 0.235935,
     "end_time": "2020-12-31T04:19:03.740050",
     "exception": false,
     "start_time": "2020-12-31T04:19:03.504115",
     "status": "completed"
    },
    "tags": []
   },
   "outputs": [
    {
     "name": "stdout",
     "output_type": "stream",
     "text": [
      "0    97.97\n",
      "1     1.85\n",
      "2     0.17\n",
      "3     0.01\n",
      "4     0.00\n",
      "Name: Handcap, dtype: float64\n"
     ]
    },
    {
     "data": {
      "image/png": "[encoded data removed]",
      "text/plain": [
       "<Figure size 432x288 with 1 Axes>"
      ]
     },
     "metadata": {
      "needs_background": "light"
     },
     "output_type": "display_data"
    }
   ],
   "source": [
    "percent_and_barplot(\"Handcap\");"
   ]
  },
  {
   "cell_type": "markdown",
   "metadata": {
    "papermill": {
     "duration": 0.095488,
     "end_time": "2020-12-31T04:19:03.932411",
     "exception": false,
     "start_time": "2020-12-31T04:19:03.836923",
     "status": "completed"
    },
    "tags": []
   },
   "source": [
    "---\n",
    "### SMS_received"
   ]
  },
  {
   "cell_type": "code",
   "execution_count": 38,
   "metadata": {
    "execution": {
     "iopub.execute_input": "2020-12-31T04:19:04.127084Z",
     "iopub.status.busy": "2020-12-31T04:19:04.125961Z",
     "iopub.status.idle": "2020-12-31T04:19:04.261302Z",
     "shell.execute_reply": "2020-12-31T04:19:04.261846Z"
    },
    "papermill": {
     "duration": 0.235241,
     "end_time": "2020-12-31T04:19:04.262006",
     "exception": false,
     "start_time": "2020-12-31T04:19:04.026765",
     "status": "completed"
    },
    "tags": []
   },
   "outputs": [
    {
     "name": "stdout",
     "output_type": "stream",
     "text": [
      "0    67.9\n",
      "1    32.1\n",
      "Name: SMS_received, dtype: float64\n"
     ]
    },
    {
     "data": {
      "image/png": "[encoded data removed]",
      "text/plain": [
       "<Figure size 432x288 with 1 Axes>"
      ]
     },
     "metadata": {
      "needs_background": "light"
     },
     "output_type": "display_data"
    }
   ],
   "source": [
    "percent_and_barplot(\"SMS_received\");"
   ]
  },
  {
   "cell_type": "markdown",
   "metadata": {
    "papermill": {
     "duration": 0.096979,
     "end_time": "2020-12-31T04:19:04.455593",
     "exception": false,
     "start_time": "2020-12-31T04:19:04.358614",
     "status": "completed"
    },
    "tags": []
   },
   "source": [
    "---\n",
    "### No-show"
   ]
  },
  {
   "cell_type": "code",
   "execution_count": 39,
   "metadata": {
    "execution": {
     "iopub.execute_input": "2020-12-31T04:19:04.681547Z",
     "iopub.status.busy": "2020-12-31T04:19:04.680864Z",
     "iopub.status.idle": "2020-12-31T04:19:04.827256Z",
     "shell.execute_reply": "2020-12-31T04:19:04.828074Z"
    },
    "papermill": {
     "duration": 0.275631,
     "end_time": "2020-12-31T04:19:04.828311",
     "exception": false,
     "start_time": "2020-12-31T04:19:04.552680",
     "status": "completed"
    },
    "tags": []
   },
   "outputs": [
    {
     "name": "stdout",
     "output_type": "stream",
     "text": [
      "No     79.81\n",
      "Yes    20.19\n",
      "Name: No-show, dtype: float64\n"
     ]
    },
    {
     "data": {
      "image/png": "[encoded data removed]",
      "text/plain": [
       "<Figure size 432x288 with 1 Axes>"
      ]
     },
     "metadata": {
      "needs_background": "light"
     },
     "output_type": "display_data"
    }
   ],
   "source": [
    "percent_and_barplot(\"No-show\");"
   ]
  },
  {
   "cell_type": "markdown",
   "metadata": {
    "papermill": {
     "duration": 0.097414,
     "end_time": "2020-12-31T04:19:05.030621",
     "exception": false,
     "start_time": "2020-12-31T04:19:04.933207",
     "status": "completed"
    },
    "tags": []
   },
   "source": [
    "---\n",
    "## General Exploration Results:\n",
    "- **The proportion of females is greater than that of males**.\n",
    "- the period of time is starting from **2015-11-10** for **scheduling** dates and from **2016-04-29** for **appointments** untill -> **2016-06-08**.\n",
    "- The Age range is contain nearly **all ages** (from 0 to 115) and the majority is in very young age and between 20 and 55.\n",
    "- There is **81 neighbourhood** where the appointment takes place.\n",
    "- Most of the patients have **No** : Scholarship 90% , Hipertension 80%, Diabetes 93% , Alcoholism 97% , Handcap 98% (('according to the data')).\n",
    "- 68% of patients did not received SMS.\n",
    "- **Nearly 20% of patient missed their appointment**.\n",
    "---\n",
    "---"
   ]
  },
  {
   "cell_type": "markdown",
   "metadata": {
    "papermill": {
     "duration": 0.096956,
     "end_time": "2020-12-31T04:19:05.226154",
     "exception": false,
     "start_time": "2020-12-31T04:19:05.129198",
     "status": "completed"
    },
    "tags": []
   },
   "source": [
    "<a id='eda'></a>\n",
    "# 3) Exploratory Data Analysis\n",
    "\n",
    "The main goal of this analysis is to find why patients miss their appointment.\n",
    "and this will be done by finding the relationships between the patients who missed and Attended their appointment and the other charactrestics in the dataset.\n",
    "\n",
    "- **Q1- Is there a correlation between missing the appointment and the age of the patient?**\n",
    "- **Q2- Is there a correlation between missing the appointment and the Gender of the patient?**\n",
    "- **Q3- Is there a correlation between missing the appointment and the Neighbourhood?**\n",
    "- **Q4- Is there a correlation between missing the appointment and not receiving an SMS message?**"
   ]
  },
  {
   "cell_type": "code",
   "execution_count": 40,
   "metadata": {
    "execution": {
     "iopub.execute_input": "2020-12-31T04:19:05.430244Z",
     "iopub.status.busy": "2020-12-31T04:19:05.429474Z",
     "iopub.status.idle": "2020-12-31T04:19:05.482197Z",
     "shell.execute_reply": "2020-12-31T04:19:05.481572Z"
    },
    "papermill": {
     "duration": 0.15717,
     "end_time": "2020-12-31T04:19:05.482326",
     "exception": false,
     "start_time": "2020-12-31T04:19:05.325156",
     "status": "completed"
    },
    "tags": []
   },
   "outputs": [
    {
     "name": "stdout",
     "output_type": "stream",
     "text": [
      "<class 'pandas.core.frame.DataFrame'>\n",
      "Int64Index: 110526 entries, 0 to 110526\n",
      "Data columns (total 14 columns):\n",
      " #   Column          Non-Null Count   Dtype              \n",
      "---  ------          --------------   -----              \n",
      " 0   PatientId       110526 non-null  float64            \n",
      " 1   AppointmentID   110526 non-null  int64              \n",
      " 2   Gender          110526 non-null  object             \n",
      " 3   ScheduledDay    110526 non-null  datetime64[ns, UTC]\n",
      " 4   AppointmentDay  110526 non-null  datetime64[ns, UTC]\n",
      " 5   Age             110526 non-null  int64              \n",
      " 6   Neighbourhood   110526 non-null  object             \n",
      " 7   Scholarship     110526 non-null  int64              \n",
      " 8   Hipertension    110526 non-null  int64              \n",
      " 9   Diabetes        110526 non-null  int64              \n",
      " 10  Alcoholism      110526 non-null  int64              \n",
      " 11  Handcap         110526 non-null  int64              \n",
      " 12  SMS_received    110526 non-null  int64              \n",
      " 13  No-show         110526 non-null  object             \n",
      "dtypes: datetime64[ns, UTC](2), float64(1), int64(8), object(3)\n",
      "memory usage: 12.6+ MB\n"
     ]
    }
   ],
   "source": [
    "df.info()"
   ]
  },
  {
   "cell_type": "code",
   "execution_count": 41,
   "metadata": {
    "execution": {
     "iopub.execute_input": "2020-12-31T04:19:05.718462Z",
     "iopub.status.busy": "2020-12-31T04:19:05.699455Z",
     "iopub.status.idle": "2020-12-31T04:19:05.721954Z",
     "shell.execute_reply": "2020-12-31T04:19:05.721257Z"
    },
    "papermill": {
     "duration": 0.142008,
     "end_time": "2020-12-31T04:19:05.722092",
     "exception": false,
     "start_time": "2020-12-31T04:19:05.580084",
     "status": "completed"
    },
    "tags": []
   },
   "outputs": [],
   "source": [
    "# making masks to use later\n",
    "miss = df[\"No-show\"] == \"Yes\"\n",
    "show = df[\"No-show\"] == \"No\""
   ]
  },
  {
   "cell_type": "markdown",
   "metadata": {
    "papermill": {
     "duration": 0.100103,
     "end_time": "2020-12-31T04:19:05.921823",
     "exception": false,
     "start_time": "2020-12-31T04:19:05.821720",
     "status": "completed"
    },
    "tags": []
   },
   "source": [
    "---\n",
    "### Q1- Is there a correlation between missing the appointment and the age of the patient?"
   ]
  },
  {
   "cell_type": "code",
   "execution_count": 42,
   "metadata": {
    "execution": {
     "iopub.execute_input": "2020-12-31T04:19:06.124510Z",
     "iopub.status.busy": "2020-12-31T04:19:06.123801Z",
     "iopub.status.idle": "2020-12-31T04:19:06.570067Z",
     "shell.execute_reply": "2020-12-31T04:19:06.571011Z"
    },
    "papermill": {
     "duration": 0.55161,
     "end_time": "2020-12-31T04:19:06.571192",
     "exception": false,
     "start_time": "2020-12-31T04:19:06.019582",
     "status": "completed"
    },
    "tags": []
   },
   "outputs": [
    {
     "data": {
      "image/png": "[encoded data removed]",
      "text/plain": [
       "<Figure size 432x288 with 1 Axes>"
      ]
     },
     "metadata": {
      "needs_background": "light"
     },
     "output_type": "display_data"
    }
   ],
   "source": [
    "# histogram for ages of patients\n",
    "df[show].Age.hist(alpha=0.5, bins=30,label=\"showed\")\n",
    "df[miss].Age.hist(alpha=0.5, bins=30,label=\"missed\")\n",
    "plt.legend();\n",
    "plt.title(\"Age Histogram\")\n",
    "plt.xlabel(\"Age\")\n",
    "plt.ylabel(\"Count\");"
   ]
  },
  {
   "cell_type": "code",
   "execution_count": 43,
   "metadata": {
    "execution": {
     "iopub.execute_input": "2020-12-31T04:19:06.775347Z",
     "iopub.status.busy": "2020-12-31T04:19:06.774637Z",
     "iopub.status.idle": "2020-12-31T04:19:06.809583Z",
     "shell.execute_reply": "2020-12-31T04:19:06.808746Z"
    },
    "papermill": {
     "duration": 0.138629,
     "end_time": "2020-12-31T04:19:06.809707",
     "exception": false,
     "start_time": "2020-12-31T04:19:06.671078",
     "status": "completed"
    },
    "tags": []
   },
   "outputs": [
    {
     "data": {
      "text/plain": [
       "Age  No-show\n",
       "0    No         2900\n",
       "     Yes         639\n",
       "1    No         1858\n",
       "     Yes         415\n",
       "2    No         1366\n",
       "                ... \n",
       "99   No            1\n",
       "100  No            4\n",
       "102  No            2\n",
       "115  Yes           3\n",
       "     No            2\n",
       "Name: No-show, Length: 203, dtype: int64"
      ]
     },
     "execution_count": 43,
     "metadata": {},
     "output_type": "execute_result"
    }
   ],
   "source": [
    "# value counts for no-show grouped by Age\n",
    "Age_count = df.groupby(\"Age\")[\"No-show\"].value_counts()\n",
    "Age_count"
   ]
  },
  {
   "cell_type": "code",
   "execution_count": 44,
   "metadata": {
    "execution": {
     "iopub.execute_input": "2020-12-31T04:19:07.017416Z",
     "iopub.status.busy": "2020-12-31T04:19:07.016613Z",
     "iopub.status.idle": "2020-12-31T04:19:07.020500Z",
     "shell.execute_reply": "2020-12-31T04:19:07.019896Z"
    },
    "papermill": {
     "duration": 0.110418,
     "end_time": "2020-12-31T04:19:07.020617",
     "exception": false,
     "start_time": "2020-12-31T04:19:06.910199",
     "status": "completed"
    },
    "tags": []
   },
   "outputs": [
    {
     "data": {
      "text/plain": [
       "Age\n",
       "0      3539\n",
       "1      2273\n",
       "2      1618\n",
       "3      1513\n",
       "4      1299\n",
       "       ... \n",
       "98        6\n",
       "99        1\n",
       "100       4\n",
       "102       2\n",
       "115       5\n",
       "Name: No-show, Length: 103, dtype: int64"
      ]
     },
     "execution_count": 44,
     "metadata": {},
     "output_type": "execute_result"
    }
   ],
   "source": [
    "# value counts for Age\n",
    "Age_count.groupby(level=0).sum()"
   ]
  },
  {
   "cell_type": "code",
   "execution_count": 45,
   "metadata": {
    "execution": {
     "iopub.execute_input": "2020-12-31T04:19:07.249006Z",
     "iopub.status.busy": "2020-12-31T04:19:07.242255Z",
     "iopub.status.idle": "2020-12-31T04:19:08.543552Z",
     "shell.execute_reply": "2020-12-31T04:19:08.544242Z"
    },
    "papermill": {
     "duration": 1.418473,
     "end_time": "2020-12-31T04:19:08.544417",
     "exception": false,
     "start_time": "2020-12-31T04:19:07.125944",
     "status": "completed"
    },
    "tags": []
   },
   "outputs": [
    {
     "data": {
      "image/png": "[encoded data removed]",
      "text/plain": [
       "<Figure size 1800x360 with 1 Axes>"
      ]
     },
     "metadata": {
      "needs_background": "light"
     },
     "output_type": "display_data"
    }
   ],
   "source": [
    "# Stacked bar plot for the patients who missed thier appointment across all ages\n",
    "round(Age_count / Age_count.groupby(level=0).sum() * 100,2).unstack().plot(kind=\"bar\",stacked=True, figsize=(25,5));\n",
    "plt.legend([\"showed\",\"missed\"]);\n",
    "plt.title(\"Persantage of massing appointments across all ages\");"
   ]
  },
  {
   "cell_type": "code",
   "execution_count": 46,
   "metadata": {
    "execution": {
     "iopub.execute_input": "2020-12-31T04:19:08.754981Z",
     "iopub.status.busy": "2020-12-31T04:19:08.753766Z",
     "iopub.status.idle": "2020-12-31T04:19:08.763275Z",
     "shell.execute_reply": "2020-12-31T04:19:08.763884Z"
    },
    "papermill": {
     "duration": 0.119741,
     "end_time": "2020-12-31T04:19:08.764068",
     "exception": false,
     "start_time": "2020-12-31T04:19:08.644327",
     "status": "completed"
    },
    "tags": []
   },
   "outputs": [
    {
     "name": "stdout",
     "output_type": "stream",
     "text": [
      "The mean value of patient missig the appointment for the age:\n"
     ]
    },
    {
     "data": {
      "text/plain": [
       "19.850300000000008"
      ]
     },
     "execution_count": 46,
     "metadata": {},
     "output_type": "execute_result"
    }
   ],
   "source": [
    "# The mean value of percentage of age for patient that missing thier appointment\n",
    "print(\"The mean value of patient missig the appointment for the age:\")\n",
    "round(Age_count / Age_count.groupby(level=0).sum() * 100,2).unstack().Yes.mean()"
   ]
  },
  {
   "cell_type": "markdown",
   "metadata": {
    "papermill": {
     "duration": 0.104197,
     "end_time": "2020-12-31T04:19:08.969447",
     "exception": false,
     "start_time": "2020-12-31T04:19:08.865250",
     "status": "completed"
    },
    "tags": []
   },
   "source": [
    "#### Binning Age\n",
    "Dividing Age into bins with a width of 10, to get a clear look on each age group:"
   ]
  },
  {
   "cell_type": "code",
   "execution_count": 47,
   "metadata": {
    "execution": {
     "iopub.execute_input": "2020-12-31T04:19:09.181445Z",
     "iopub.status.busy": "2020-12-31T04:19:09.180430Z",
     "iopub.status.idle": "2020-12-31T04:19:09.216505Z",
     "shell.execute_reply": "2020-12-31T04:19:09.217067Z"
    },
    "papermill": {
     "duration": 0.145426,
     "end_time": "2020-12-31T04:19:09.217219",
     "exception": false,
     "start_time": "2020-12-31T04:19:09.071793",
     "status": "completed"
    },
    "tags": []
   },
   "outputs": [],
   "source": [
    "bins=[0,10,20,30,40,50,60,70,80,90,100,120]\n",
    "df[\"Age_bin10\"] = pd.cut(df.Age, bins=bins)\n",
    "Age10_count = df.groupby(\"Age_bin10\")[\"No-show\"].value_counts()"
   ]
  },
  {
   "cell_type": "code",
   "execution_count": 48,
   "metadata": {
    "execution": {
     "iopub.execute_input": "2020-12-31T04:19:09.427991Z",
     "iopub.status.busy": "2020-12-31T04:19:09.427332Z",
     "iopub.status.idle": "2020-12-31T04:19:09.431308Z",
     "shell.execute_reply": "2020-12-31T04:19:09.430725Z"
    },
    "papermill": {
     "duration": 0.113515,
     "end_time": "2020-12-31T04:19:09.431422",
     "exception": false,
     "start_time": "2020-12-31T04:19:09.317907",
     "status": "completed"
    },
    "tags": []
   },
   "outputs": [
    {
     "data": {
      "text/plain": [
       "Age_bin10   No-show\n",
       "(0, 10]     No         12061\n",
       "            Yes         3149\n",
       "(10, 20]    No          9791\n",
       "            Yes         3308\n",
       "(20, 30]    No         10389\n",
       "            Yes         3394\n",
       "(30, 40]    No         11820\n",
       "            Yes         3232\n",
       "(40, 50]    No         11550\n",
       "            Yes         2870\n",
       "(50, 60]    No         12940\n",
       "            Yes         2721\n",
       "(60, 70]    No          9541\n",
       "            Yes         1648\n",
       "(70, 80]    No          4832\n",
       "            Yes          889\n",
       "(80, 90]    No          2137\n",
       "            Yes          407\n",
       "(90, 100]   No           242\n",
       "            Yes           59\n",
       "(100, 120]  No             4\n",
       "            Yes            3\n",
       "Name: No-show, dtype: int64"
      ]
     },
     "execution_count": 48,
     "metadata": {},
     "output_type": "execute_result"
    }
   ],
   "source": [
    "Age10_count"
   ]
  },
  {
   "cell_type": "code",
   "execution_count": 49,
   "metadata": {
    "execution": {
     "iopub.execute_input": "2020-12-31T04:19:09.652577Z",
     "iopub.status.busy": "2020-12-31T04:19:09.647581Z",
     "iopub.status.idle": "2020-12-31T04:19:09.888506Z",
     "shell.execute_reply": "2020-12-31T04:19:09.887841Z"
    },
    "papermill": {
     "duration": 0.356097,
     "end_time": "2020-12-31T04:19:09.888634",
     "exception": false,
     "start_time": "2020-12-31T04:19:09.532537",
     "status": "completed"
    },
    "tags": []
   },
   "outputs": [
    {
     "data": {
      "text/plain": [
       "Text(0.5, 1.0, 'Prcentage of Missing appointment across ages')"
      ]
     },
     "execution_count": 49,
     "metadata": {},
     "output_type": "execute_result"
    },
    {
     "data": {
      "image/png": "[encoded data removed]",
      "text/plain": [
       "<Figure size 432x288 with 1 Axes>"
      ]
     },
     "metadata": {
      "needs_background": "light"
     },
     "output_type": "display_data"
    }
   ],
   "source": [
    "(Age10_count/Age10_count.groupby(level=0).sum()*100).unstack().plot(kind=\"bar\",stacked=True)\n",
    "plt.legend([\"Showed\",\"Missed\"]);\n",
    "plt.title(\"Prcentage of Missing appointment across ages\")"
   ]
  },
  {
   "cell_type": "code",
   "execution_count": 50,
   "metadata": {
    "execution": {
     "iopub.execute_input": "2020-12-31T04:19:10.117213Z",
     "iopub.status.busy": "2020-12-31T04:19:10.116223Z",
     "iopub.status.idle": "2020-12-31T04:19:10.121519Z",
     "shell.execute_reply": "2020-12-31T04:19:10.120830Z"
    },
    "papermill": {
     "duration": 0.127247,
     "end_time": "2020-12-31T04:19:10.121637",
     "exception": false,
     "start_time": "2020-12-31T04:19:09.994390",
     "status": "completed"
    },
    "tags": []
   },
   "outputs": [
    {
     "data": {
      "text/plain": [
       "Age_bin10   No-show\n",
       "(0, 10]     No         79.296515\n",
       "            Yes        20.703485\n",
       "(10, 20]    No         74.746164\n",
       "            Yes        25.253836\n",
       "(20, 30]    No         75.375463\n",
       "            Yes        24.624537\n",
       "(30, 40]    No         78.527770\n",
       "            Yes        21.472230\n",
       "(40, 50]    No         80.097087\n",
       "            Yes        19.902913\n",
       "(50, 60]    No         82.625631\n",
       "            Yes        17.374369\n",
       "(60, 70]    No         85.271249\n",
       "            Yes        14.728751\n",
       "(70, 80]    No         84.460759\n",
       "            Yes        15.539241\n",
       "(80, 90]    No         84.001572\n",
       "            Yes        15.998428\n",
       "(90, 100]   No         80.398671\n",
       "            Yes        19.601329\n",
       "(100, 120]  No         57.142857\n",
       "            Yes        42.857143\n",
       "Name: No-show, dtype: float64"
      ]
     },
     "execution_count": 50,
     "metadata": {},
     "output_type": "execute_result"
    }
   ],
   "source": [
    "(Age10_count/Age10_count.groupby(level=0).sum()*100)"
   ]
  },
  {
   "cell_type": "code",
   "execution_count": 51,
   "metadata": {
    "execution": {
     "iopub.execute_input": "2020-12-31T04:19:10.356473Z",
     "iopub.status.busy": "2020-12-31T04:19:10.347120Z",
     "iopub.status.idle": "2020-12-31T04:19:10.563223Z",
     "shell.execute_reply": "2020-12-31T04:19:10.563730Z"
    },
    "papermill": {
     "duration": 0.337509,
     "end_time": "2020-12-31T04:19:10.563902",
     "exception": false,
     "start_time": "2020-12-31T04:19:10.226393",
     "status": "completed"
    },
    "tags": []
   },
   "outputs": [
    {
     "data": {
      "image/png": "[encoded data removed]",
      "text/plain": [
       "<Figure size 432x288 with 1 Axes>"
      ]
     },
     "metadata": {
      "needs_background": "light"
     },
     "output_type": "display_data"
    }
   ],
   "source": [
    "# ratio to all patients\n",
    "(Age10_count/len(df)*100).unstack().plot(kind=\"bar\",stacked=True);\n",
    "plt.title(\"Prcentage of Missing appointment across ages to total number of patients\");"
   ]
  },
  {
   "cell_type": "code",
   "execution_count": 52,
   "metadata": {
    "execution": {
     "iopub.execute_input": "2020-12-31T04:19:10.784256Z",
     "iopub.status.busy": "2020-12-31T04:19:10.783554Z",
     "iopub.status.idle": "2020-12-31T04:19:10.787730Z",
     "shell.execute_reply": "2020-12-31T04:19:10.786950Z"
    },
    "papermill": {
     "duration": 0.114516,
     "end_time": "2020-12-31T04:19:10.787849",
     "exception": false,
     "start_time": "2020-12-31T04:19:10.673333",
     "status": "completed"
    },
    "tags": []
   },
   "outputs": [],
   "source": [
    "#(Age10_count/Age10_count.groupby(level=0).sum()*100).unstack().mean()"
   ]
  },
  {
   "cell_type": "code",
   "execution_count": 53,
   "metadata": {
    "execution": {
     "iopub.execute_input": "2020-12-31T04:19:11.007573Z",
     "iopub.status.busy": "2020-12-31T04:19:11.006830Z",
     "iopub.status.idle": "2020-12-31T04:19:11.010406Z",
     "shell.execute_reply": "2020-12-31T04:19:11.010944Z"
    },
    "papermill": {
     "duration": 0.116414,
     "end_time": "2020-12-31T04:19:11.011150",
     "exception": false,
     "start_time": "2020-12-31T04:19:10.894736",
     "status": "completed"
    },
    "tags": []
   },
   "outputs": [],
   "source": [
    "#(Age10_count/Age10_count.groupby(level=0).sum()*100).unstack().Yes.hist(bins=30);"
   ]
  },
  {
   "cell_type": "markdown",
   "metadata": {
    "papermill": {
     "duration": 0.163606,
     "end_time": "2020-12-31T04:19:11.296124",
     "exception": false,
     "start_time": "2020-12-31T04:19:11.132518",
     "status": "completed"
    },
    "tags": []
   },
   "source": [
    "### Results:\n",
    "- **There is no strong corolation between age alone and missing the appointment** : \n",
    "    \n",
    "    The mean of patient missing an appointment across all ages (19.85%) is close to the overall avarge (20.19%)\n",
    "- After some exploration we could say:\n",
    "    - **patients from 12 to mid 30s are more likely to miss their appointments**\n",
    "    - **kids and patients in their 60s, 70s and 80s are more likely to show to their appointments** : The reason for that  could be because there is someone who is taking them to their appointments.\n"
   ]
  },
  {
   "cell_type": "markdown",
   "metadata": {
    "papermill": {
     "duration": 0.105297,
     "end_time": "2020-12-31T04:19:11.509436",
     "exception": false,
     "start_time": "2020-12-31T04:19:11.404139",
     "status": "completed"
    },
    "tags": []
   },
   "source": [
    "---\n",
    "### Q2- Is there a correlation between missing the appointment and the Gender of the patient?"
   ]
  },
  {
   "cell_type": "code",
   "execution_count": 54,
   "metadata": {
    "execution": {
     "iopub.execute_input": "2020-12-31T04:19:11.731628Z",
     "iopub.status.busy": "2020-12-31T04:19:11.730842Z",
     "iopub.status.idle": "2020-12-31T04:19:11.770478Z",
     "shell.execute_reply": "2020-12-31T04:19:11.769323Z"
    },
    "papermill": {
     "duration": 0.152595,
     "end_time": "2020-12-31T04:19:11.770623",
     "exception": false,
     "start_time": "2020-12-31T04:19:11.618028",
     "status": "completed"
    },
    "tags": []
   },
   "outputs": [
    {
     "name": "stdout",
     "output_type": "stream",
     "text": [
      "Gender  No-show\n",
      "F       No         57245\n",
      "        Yes        14594\n",
      "M       No         30962\n",
      "        Yes         7725\n",
      "Name: No-show, dtype: int64\n"
     ]
    }
   ],
   "source": [
    "Gender_count = df.groupby(\"Gender\")[\"No-show\"].value_counts()\n",
    "print(Gender_count)"
   ]
  },
  {
   "cell_type": "code",
   "execution_count": 55,
   "metadata": {
    "execution": {
     "iopub.execute_input": "2020-12-31T04:19:11.998197Z",
     "iopub.status.busy": "2020-12-31T04:19:11.997379Z",
     "iopub.status.idle": "2020-12-31T04:19:12.178980Z",
     "shell.execute_reply": "2020-12-31T04:19:12.179539Z"
    },
    "papermill": {
     "duration": 0.300521,
     "end_time": "2020-12-31T04:19:12.179703",
     "exception": false,
     "start_time": "2020-12-31T04:19:11.879182",
     "status": "completed"
    },
    "tags": []
   },
   "outputs": [
    {
     "name": "stdout",
     "output_type": "stream",
     "text": [
      "The percentage of females who missed their appointment:  20.31\n",
      "The percentage of males who missed their appointment  :  19.97\n"
     ]
    },
    {
     "data": {
      "text/plain": [
       "Text(0.5, 1.0, 'The percentage of male and females')"
      ]
     },
     "execution_count": 55,
     "metadata": {},
     "output_type": "execute_result"
    },
    {
     "data": {
      "image/png": "[encoded data removed]",
      "text/plain": [
       "<Figure size 432x288 with 1 Axes>"
      ]
     },
     "metadata": {
      "needs_background": "light"
     },
     "output_type": "display_data"
    }
   ],
   "source": [
    "print(\"The percentage of females who missed their appointment: \",round(Gender_count[1]/(Gender_count[0]+Gender_count[1])*100,2))\n",
    "print(\"The percentage of males who missed their appointment  : \",round(Gender_count[3]/(Gender_count[3]+Gender_count[2])*100,2))\n",
    "df.groupby(\"Gender\")[\"No-show\"].value_counts().unstack().plot(kind=\"bar\",stacked=True)\n",
    "plt.legend([\"showed\",\"missed\"]);\n",
    "plt.title(\"The percentage of male and females\")"
   ]
  },
  {
   "cell_type": "markdown",
   "metadata": {
    "papermill": {
     "duration": 0.108875,
     "end_time": "2020-12-31T04:19:12.396638",
     "exception": false,
     "start_time": "2020-12-31T04:19:12.287763",
     "status": "completed"
    },
    "tags": []
   },
   "source": [
    "#### Results:\n",
    "- **we could say that there is no corolation between gender alone and missing the appointment.**\n",
    "\n",
    "    The percentage of male and female patients missing their appointments is the same and same as the general average.\n",
    "    "
   ]
  },
  {
   "cell_type": "markdown",
   "metadata": {
    "papermill": {
     "duration": 0.109536,
     "end_time": "2020-12-31T04:19:12.613898",
     "exception": false,
     "start_time": "2020-12-31T04:19:12.504362",
     "status": "completed"
    },
    "tags": []
   },
   "source": [
    "----\n",
    "### Q3- Is there a correlation between missing the appointment and the Neighbourhood?"
   ]
  },
  {
   "cell_type": "code",
   "execution_count": 56,
   "metadata": {
    "execution": {
     "iopub.execute_input": "2020-12-31T04:19:12.844566Z",
     "iopub.status.busy": "2020-12-31T04:19:12.834844Z",
     "iopub.status.idle": "2020-12-31T04:19:12.876122Z",
     "shell.execute_reply": "2020-12-31T04:19:12.876759Z"
    },
    "papermill": {
     "duration": 0.153808,
     "end_time": "2020-12-31T04:19:12.876902",
     "exception": false,
     "start_time": "2020-12-31T04:19:12.723094",
     "status": "completed"
    },
    "tags": []
   },
   "outputs": [
    {
     "data": {
      "text/plain": [
       "Neighbourhood    No-show\n",
       "AEROPORTO        No            7\n",
       "                 Yes           1\n",
       "ANDORINHAS       No         1741\n",
       "                 Yes         521\n",
       "ANTÔNIO HONÓRIO  No          221\n",
       "                            ... \n",
       "TABUAZEIRO       Yes         573\n",
       "UNIVERSITÁRIO    No          120\n",
       "                 Yes          32\n",
       "VILA RUBIM       No          710\n",
       "                 Yes         141\n",
       "Name: No-show, Length: 160, dtype: int64"
      ]
     },
     "execution_count": 56,
     "metadata": {},
     "output_type": "execute_result"
    }
   ],
   "source": [
    "Neighbourhood_count = df.groupby(\"Neighbourhood\")[\"No-show\"].value_counts()\n",
    "Neighbourhood_count"
   ]
  },
  {
   "cell_type": "code",
   "execution_count": 57,
   "metadata": {
    "execution": {
     "iopub.execute_input": "2020-12-31T04:19:13.113867Z",
     "iopub.status.busy": "2020-12-31T04:19:13.109098Z",
     "iopub.status.idle": "2020-12-31T04:19:13.118158Z",
     "shell.execute_reply": "2020-12-31T04:19:13.118675Z"
    },
    "papermill": {
     "duration": 0.131705,
     "end_time": "2020-12-31T04:19:13.118945",
     "exception": false,
     "start_time": "2020-12-31T04:19:12.987240",
     "status": "completed"
    },
    "tags": []
   },
   "outputs": [
    {
     "data": {
      "text/html": [
       "<div>\n",
       "<style scoped>\n",
       "    .dataframe tbody tr th:only-of-type {\n",
       "        vertical-align: middle;\n",
       "    }\n",
       "\n",
       "    .dataframe tbody tr th {\n",
       "        vertical-align: top;\n",
       "    }\n",
       "\n",
       "    .dataframe thead th {\n",
       "        text-align: right;\n",
       "    }\n",
       "</style>\n",
       "<table border=\"1\" class=\"dataframe\">\n",
       "  <thead>\n",
       "    <tr style=\"text-align: right;\">\n",
       "      <th>No-show</th>\n",
       "      <th>No</th>\n",
       "      <th>Yes</th>\n",
       "    </tr>\n",
       "    <tr>\n",
       "      <th>Neighbourhood</th>\n",
       "      <th></th>\n",
       "      <th></th>\n",
       "    </tr>\n",
       "  </thead>\n",
       "  <tbody>\n",
       "    <tr>\n",
       "      <th>AEROPORTO</th>\n",
       "      <td>87.50</td>\n",
       "      <td>12.50</td>\n",
       "    </tr>\n",
       "    <tr>\n",
       "      <th>ANDORINHAS</th>\n",
       "      <td>76.97</td>\n",
       "      <td>23.03</td>\n",
       "    </tr>\n",
       "    <tr>\n",
       "      <th>ANTÔNIO HONÓRIO</th>\n",
       "      <td>81.55</td>\n",
       "      <td>18.45</td>\n",
       "    </tr>\n",
       "    <tr>\n",
       "      <th>ARIOVALDO FAVALESSA</th>\n",
       "      <td>78.01</td>\n",
       "      <td>21.99</td>\n",
       "    </tr>\n",
       "    <tr>\n",
       "      <th>BARRO VERMELHO</th>\n",
       "      <td>78.49</td>\n",
       "      <td>21.51</td>\n",
       "    </tr>\n",
       "    <tr>\n",
       "      <th>...</th>\n",
       "      <td>...</td>\n",
       "      <td>...</td>\n",
       "    </tr>\n",
       "    <tr>\n",
       "      <th>SÃO JOSÉ</th>\n",
       "      <td>78.35</td>\n",
       "      <td>21.65</td>\n",
       "    </tr>\n",
       "    <tr>\n",
       "      <th>SÃO PEDRO</th>\n",
       "      <td>78.96</td>\n",
       "      <td>21.04</td>\n",
       "    </tr>\n",
       "    <tr>\n",
       "      <th>TABUAZEIRO</th>\n",
       "      <td>81.70</td>\n",
       "      <td>18.30</td>\n",
       "    </tr>\n",
       "    <tr>\n",
       "      <th>UNIVERSITÁRIO</th>\n",
       "      <td>78.95</td>\n",
       "      <td>21.05</td>\n",
       "    </tr>\n",
       "    <tr>\n",
       "      <th>VILA RUBIM</th>\n",
       "      <td>83.43</td>\n",
       "      <td>16.57</td>\n",
       "    </tr>\n",
       "  </tbody>\n",
       "</table>\n",
       "<p>81 rows × 2 columns</p>\n",
       "</div>"
      ],
      "text/plain": [
       "No-show                 No    Yes\n",
       "Neighbourhood                    \n",
       "AEROPORTO            87.50  12.50\n",
       "ANDORINHAS           76.97  23.03\n",
       "ANTÔNIO HONÓRIO      81.55  18.45\n",
       "ARIOVALDO FAVALESSA  78.01  21.99\n",
       "BARRO VERMELHO       78.49  21.51\n",
       "...                    ...    ...\n",
       "SÃO JOSÉ             78.35  21.65\n",
       "SÃO PEDRO            78.96  21.04\n",
       "TABUAZEIRO           81.70  18.30\n",
       "UNIVERSITÁRIO        78.95  21.05\n",
       "VILA RUBIM           83.43  16.57\n",
       "\n",
       "[81 rows x 2 columns]"
      ]
     },
     "execution_count": 57,
     "metadata": {},
     "output_type": "execute_result"
    }
   ],
   "source": [
    "round(Neighbourhood_count / Neighbourhood_count.groupby(level=0).sum() * 100,2).unstack()"
   ]
  },
  {
   "cell_type": "code",
   "execution_count": 58,
   "metadata": {
    "execution": {
     "iopub.execute_input": "2020-12-31T04:19:13.348822Z",
     "iopub.status.busy": "2020-12-31T04:19:13.345853Z",
     "iopub.status.idle": "2020-12-31T04:19:14.662323Z",
     "shell.execute_reply": "2020-12-31T04:19:14.662842Z"
    },
    "papermill": {
     "duration": 1.434265,
     "end_time": "2020-12-31T04:19:14.662986",
     "exception": false,
     "start_time": "2020-12-31T04:19:13.228721",
     "status": "completed"
    },
    "tags": []
   },
   "outputs": [
    {
     "data": {
      "image/png": "[encoded data removed]",
      "text/plain": [
       "<Figure size 1800x360 with 1 Axes>"
      ]
     },
     "metadata": {
      "needs_background": "light"
     },
     "output_type": "display_data"
    }
   ],
   "source": [
    "# percentage of patients missing their appointment in each neighbourhood\n",
    "round(Neighbourhood_count / Neighbourhood_count.groupby(level=0).sum() * 100,2).unstack().sort_values(by=\"Yes\",ascending=False).plot(kind=\"bar\",stacked=True, figsize=(25,5));\n",
    "plt.legend([\"showed\",\"missed\"]);\n",
    "plt.title(\"percentage of patients missing their appointment in each neighbourhood\");"
   ]
  },
  {
   "cell_type": "code",
   "execution_count": 59,
   "metadata": {
    "execution": {
     "iopub.execute_input": "2020-12-31T04:19:14.891173Z",
     "iopub.status.busy": "2020-12-31T04:19:14.890490Z",
     "iopub.status.idle": "2020-12-31T04:19:16.266401Z",
     "shell.execute_reply": "2020-12-31T04:19:16.266889Z"
    },
    "papermill": {
     "duration": 1.491385,
     "end_time": "2020-12-31T04:19:16.267063",
     "exception": false,
     "start_time": "2020-12-31T04:19:14.775678",
     "status": "completed"
    },
    "tags": []
   },
   "outputs": [
    {
     "data": {
      "image/png": "[encoded data removed]",
      "text/plain": [
       "<Figure size 1800x360 with 1 Axes>"
      ]
     },
     "metadata": {
      "needs_background": "light"
     },
     "output_type": "display_data"
    }
   ],
   "source": [
    "# Percentage of patients missing their appointment from each neighbourhood sorted from higher to lower\n",
    "round(Neighbourhood_count / len(df) * 100,2).unstack().sort_values(by=\"Yes\",ascending=False).plot(kind=\"bar\",stacked=True, figsize=(25,5));\n",
    "plt.title(\"Percentage of patients missing their appointment from each neighbourhood sorted from higher to lower\");"
   ]
  },
  {
   "cell_type": "code",
   "execution_count": 60,
   "metadata": {
    "execution": {
     "iopub.execute_input": "2020-12-31T04:19:16.500540Z",
     "iopub.status.busy": "2020-12-31T04:19:16.499760Z",
     "iopub.status.idle": "2020-12-31T04:19:16.517517Z",
     "shell.execute_reply": "2020-12-31T04:19:16.518258Z"
    },
    "papermill": {
     "duration": 0.137563,
     "end_time": "2020-12-31T04:19:16.518489",
     "exception": false,
     "start_time": "2020-12-31T04:19:16.380926",
     "status": "completed"
    },
    "tags": []
   },
   "outputs": [
    {
     "name": "stdout",
     "output_type": "stream",
     "text": [
      "The mean value for the percentage of patients missing appointments in all neighbourhood: 20.8\n",
      "The standard deviation value: 9.5\n"
     ]
    }
   ],
   "source": [
    "\n",
    "print(\"The mean value for the percentage of patients missing appointments in all neighbourhood:\",\n",
    "      round((Neighbourhood_count / Neighbourhood_count.groupby(level=0).sum() * 100).unstack().Yes.mean(),2))\n",
    "print(\"The standard deviation value:\",round((Neighbourhood_count / Neighbourhood_count.groupby(level=0).sum() * 100).unstack().Yes.std(),2))"
   ]
  },
  {
   "cell_type": "code",
   "execution_count": 61,
   "metadata": {
    "execution": {
     "iopub.execute_input": "2020-12-31T04:19:16.753776Z",
     "iopub.status.busy": "2020-12-31T04:19:16.753002Z",
     "iopub.status.idle": "2020-12-31T04:19:17.083415Z",
     "shell.execute_reply": "2020-12-31T04:19:17.083908Z"
    },
    "papermill": {
     "duration": 0.450221,
     "end_time": "2020-12-31T04:19:17.084099",
     "exception": false,
     "start_time": "2020-12-31T04:19:16.633878",
     "status": "completed"
    },
    "tags": []
   },
   "outputs": [
    {
     "data": {
      "image/png": "[encoded data removed]",
      "text/plain": [
       "<Figure size 432x288 with 1 Axes>"
      ]
     },
     "metadata": {
      "needs_background": "light"
     },
     "output_type": "display_data"
    }
   ],
   "source": [
    "# in this distribution, we removed an outlier value\n",
    "round(Neighbourhood_count / Neighbourhood_count.groupby(level=0).sum() * 100,2).unstack().Yes.plot(kind=\"hist\",bins=80,xlim=(0,40))\n",
    "plt.title(\"The distribution for percentage of patients missing appointments in all neighbourhoods\");"
   ]
  },
  {
   "cell_type": "markdown",
   "metadata": {
    "papermill": {
     "duration": 0.114537,
     "end_time": "2020-12-31T04:19:17.314965",
     "exception": false,
     "start_time": "2020-12-31T04:19:17.200428",
     "status": "completed"
    },
    "tags": []
   },
   "source": [
    "### Results:\n",
    "- Most of the neighborhoods are close to the same general percentage of 20%\n",
    "- In general, the more patient coming from the neighborhood the more patient will miss their appointments\n",
    "- The neighborhoods with most patients showing to their appointments have low patients numbers. So, **we couldn't conclude that these neighborhoods have a higher chance that patients won't miss their appointments.**"
   ]
  },
  {
   "cell_type": "markdown",
   "metadata": {
    "papermill": {
     "duration": 0.116397,
     "end_time": "2020-12-31T04:19:17.550408",
     "exception": false,
     "start_time": "2020-12-31T04:19:17.434011",
     "status": "completed"
    },
    "tags": []
   },
   "source": [
    "---\n",
    "### Q4- Is there a correlation between missing the appointment and not receiving an SMS message?\n",
    "- As we have shown before the majority of patients didn't recived SMS."
   ]
  },
  {
   "cell_type": "code",
   "execution_count": 62,
   "metadata": {
    "execution": {
     "iopub.execute_input": "2020-12-31T04:19:17.789598Z",
     "iopub.status.busy": "2020-12-31T04:19:17.786676Z",
     "iopub.status.idle": "2020-12-31T04:19:17.850938Z",
     "shell.execute_reply": "2020-12-31T04:19:17.850375Z"
    },
    "papermill": {
     "duration": 0.183388,
     "end_time": "2020-12-31T04:19:17.851090",
     "exception": false,
     "start_time": "2020-12-31T04:19:17.667702",
     "status": "completed"
    },
    "tags": []
   },
   "outputs": [
    {
     "data": {
      "image/png": "[encoded data removed]",
      "text/plain": [
       "<Figure size 432x288 with 1 Axes>"
      ]
     },
     "metadata": {},
     "output_type": "display_data"
    }
   ],
   "source": [
    "df[\"SMS_received\"].value_counts().plot(kind=\"pie\",labels=[\"Not Received\",\"Received\"],   autopct='%1.0f%%')\n",
    "plt.ylabel(\"Count\")\n",
    "plt.title(\"SMS_received\");"
   ]
  },
  {
   "cell_type": "markdown",
   "metadata": {
    "papermill": {
     "duration": 0.115824,
     "end_time": "2020-12-31T04:19:18.086407",
     "exception": false,
     "start_time": "2020-12-31T04:19:17.970583",
     "status": "completed"
    },
    "tags": []
   },
   "source": [
    "- We will check if receiving an SMS get patients to show to their appointments:"
   ]
  },
  {
   "cell_type": "code",
   "execution_count": 63,
   "metadata": {
    "execution": {
     "iopub.execute_input": "2020-12-31T04:19:18.324723Z",
     "iopub.status.busy": "2020-12-31T04:19:18.323998Z",
     "iopub.status.idle": "2020-12-31T04:19:18.348390Z",
     "shell.execute_reply": "2020-12-31T04:19:18.348864Z"
    },
    "papermill": {
     "duration": 0.146309,
     "end_time": "2020-12-31T04:19:18.349015",
     "exception": false,
     "start_time": "2020-12-31T04:19:18.202706",
     "status": "completed"
    },
    "tags": []
   },
   "outputs": [
    {
     "data": {
      "text/plain": [
       "SMS_received  No-show\n",
       "0             No         62509\n",
       "              Yes        12535\n",
       "1             No         25698\n",
       "              Yes         9784\n",
       "Name: No-show, dtype: int64"
      ]
     },
     "execution_count": 63,
     "metadata": {},
     "output_type": "execute_result"
    }
   ],
   "source": [
    "SMS_count = df.groupby(\"SMS_received\")[\"No-show\"].value_counts()\n",
    "SMS_count"
   ]
  },
  {
   "cell_type": "code",
   "execution_count": 64,
   "metadata": {
    "execution": {
     "iopub.execute_input": "2020-12-31T04:19:18.589668Z",
     "iopub.status.busy": "2020-12-31T04:19:18.588640Z",
     "iopub.status.idle": "2020-12-31T04:19:18.603131Z",
     "shell.execute_reply": "2020-12-31T04:19:18.603602Z"
    },
    "papermill": {
     "duration": 0.137713,
     "end_time": "2020-12-31T04:19:18.603764",
     "exception": false,
     "start_time": "2020-12-31T04:19:18.466051",
     "status": "completed"
    },
    "tags": []
   },
   "outputs": [
    {
     "data": {
      "text/html": [
       "<div>\n",
       "<style scoped>\n",
       "    .dataframe tbody tr th:only-of-type {\n",
       "        vertical-align: middle;\n",
       "    }\n",
       "\n",
       "    .dataframe tbody tr th {\n",
       "        vertical-align: top;\n",
       "    }\n",
       "\n",
       "    .dataframe thead th {\n",
       "        text-align: right;\n",
       "    }\n",
       "</style>\n",
       "<table border=\"1\" class=\"dataframe\">\n",
       "  <thead>\n",
       "    <tr style=\"text-align: right;\">\n",
       "      <th>No-show</th>\n",
       "      <th>No</th>\n",
       "      <th>Yes</th>\n",
       "    </tr>\n",
       "  </thead>\n",
       "  <tbody>\n",
       "    <tr>\n",
       "      <th>NOt Received</th>\n",
       "      <td>83.296466</td>\n",
       "      <td>16.703534</td>\n",
       "    </tr>\n",
       "    <tr>\n",
       "      <th>Received</th>\n",
       "      <td>72.425455</td>\n",
       "      <td>27.574545</td>\n",
       "    </tr>\n",
       "  </tbody>\n",
       "</table>\n",
       "</div>"
      ],
      "text/plain": [
       "No-show              No        Yes\n",
       "NOt Received  83.296466  16.703534\n",
       "Received      72.425455  27.574545"
      ]
     },
     "execution_count": 64,
     "metadata": {},
     "output_type": "execute_result"
    }
   ],
   "source": [
    "SMS_YN = (SMS_count / SMS_count.groupby(level=0).sum() * 100).unstack()\n",
    "SMS_YN.index = [\"NOt Received\", \"Received\"]\n",
    "SMS_YN"
   ]
  },
  {
   "cell_type": "code",
   "execution_count": 65,
   "metadata": {
    "execution": {
     "iopub.execute_input": "2020-12-31T04:19:18.846407Z",
     "iopub.status.busy": "2020-12-31T04:19:18.845642Z",
     "iopub.status.idle": "2020-12-31T04:19:18.996159Z",
     "shell.execute_reply": "2020-12-31T04:19:18.996662Z"
    },
    "papermill": {
     "duration": 0.276353,
     "end_time": "2020-12-31T04:19:18.996820",
     "exception": false,
     "start_time": "2020-12-31T04:19:18.720467",
     "status": "completed"
    },
    "tags": []
   },
   "outputs": [
    {
     "data": {
      "image/png": "[encoded data removed]",
      "text/plain": [
       "<Figure size 432x288 with 1 Axes>"
      ]
     },
     "metadata": {
      "needs_background": "light"
     },
     "output_type": "display_data"
    }
   ],
   "source": [
    "SMS_YN.plot(kind=\"bar\",stacked=True)\n",
    "plt.legend([\"showed\",\"missed\"])\n",
    "plt.title(\"Percentage of patients who missed or showed and Receiving SMS\");"
   ]
  },
  {
   "cell_type": "code",
   "execution_count": 66,
   "metadata": {
    "execution": {
     "iopub.execute_input": "2020-12-31T04:19:19.240812Z",
     "iopub.status.busy": "2020-12-31T04:19:19.240124Z",
     "iopub.status.idle": "2020-12-31T04:19:19.404587Z",
     "shell.execute_reply": "2020-12-31T04:19:19.405170Z"
    },
    "papermill": {
     "duration": 0.289206,
     "end_time": "2020-12-31T04:19:19.405319",
     "exception": false,
     "start_time": "2020-12-31T04:19:19.116113",
     "status": "completed"
    },
    "tags": []
   },
   "outputs": [
    {
     "data": {
      "image/png": "[encoded data removed]",
      "text/plain": [
       "<Figure size 432x288 with 1 Axes>"
      ]
     },
     "metadata": {
      "needs_background": "light"
     },
     "output_type": "display_data"
    }
   ],
   "source": [
    "SMS_count.unstack().sort_values(by=\"Yes\",ascending=False).plot(kind=\"bar\",stacked=True).set_xticklabels([\"NOt Received\", \"Received\"]);\n",
    "plt.legend([\"showed\",\"missed\"])\n",
    "plt.title(\"Percentage of patients who missed or showed and Receiving SMS to total number of patients\");"
   ]
  },
  {
   "cell_type": "code",
   "execution_count": 67,
   "metadata": {
    "execution": {
     "iopub.execute_input": "2020-12-31T04:19:19.650297Z",
     "iopub.status.busy": "2020-12-31T04:19:19.649418Z",
     "iopub.status.idle": "2020-12-31T04:19:19.701735Z",
     "shell.execute_reply": "2020-12-31T04:19:19.700971Z"
    },
    "papermill": {
     "duration": 0.177039,
     "end_time": "2020-12-31T04:19:19.701968",
     "exception": false,
     "start_time": "2020-12-31T04:19:19.524929",
     "status": "completed"
    },
    "tags": []
   },
   "outputs": [
    {
     "data": {
      "text/html": [
       "<div>\n",
       "<style scoped>\n",
       "    .dataframe tbody tr th:only-of-type {\n",
       "        vertical-align: middle;\n",
       "    }\n",
       "\n",
       "    .dataframe tbody tr th {\n",
       "        vertical-align: top;\n",
       "    }\n",
       "\n",
       "    .dataframe thead th {\n",
       "        text-align: right;\n",
       "    }\n",
       "</style>\n",
       "<table border=\"1\" class=\"dataframe\">\n",
       "  <thead>\n",
       "    <tr style=\"text-align: right;\">\n",
       "      <th></th>\n",
       "      <th>Not Received</th>\n",
       "      <th>Received</th>\n",
       "    </tr>\n",
       "    <tr>\n",
       "      <th>No-show</th>\n",
       "      <th></th>\n",
       "      <th></th>\n",
       "    </tr>\n",
       "  </thead>\n",
       "  <tbody>\n",
       "    <tr>\n",
       "      <th>No</th>\n",
       "      <td>70.866258</td>\n",
       "      <td>29.133742</td>\n",
       "    </tr>\n",
       "    <tr>\n",
       "      <th>Yes</th>\n",
       "      <td>56.162911</td>\n",
       "      <td>43.837089</td>\n",
       "    </tr>\n",
       "  </tbody>\n",
       "</table>\n",
       "</div>"
      ],
      "text/plain": [
       "         Not Received   Received\n",
       "No-show                         \n",
       "No          70.866258  29.133742\n",
       "Yes         56.162911  43.837089"
      ]
     },
     "execution_count": 67,
     "metadata": {},
     "output_type": "execute_result"
    }
   ],
   "source": [
    "# Exploring it the other way, percentage of patients who (recived SMS of not) to (missing or showing)\n",
    "SMS_Miss = (df.groupby(\"No-show\")[\"SMS_received\"].value_counts()/(df.groupby(\"No-show\")[\"SMS_received\"].value_counts().groupby(level=0).sum()/100)).unstack()\n",
    "SMS_Miss.columns = [\"Not Received\", \"Received\"]\n",
    "SMS_Miss"
   ]
  },
  {
   "cell_type": "code",
   "execution_count": 68,
   "metadata": {
    "execution": {
     "iopub.execute_input": "2020-12-31T04:19:19.957357Z",
     "iopub.status.busy": "2020-12-31T04:19:19.956306Z",
     "iopub.status.idle": "2020-12-31T04:19:20.122179Z",
     "shell.execute_reply": "2020-12-31T04:19:20.121521Z"
    },
    "papermill": {
     "duration": 0.298035,
     "end_time": "2020-12-31T04:19:20.122298",
     "exception": false,
     "start_time": "2020-12-31T04:19:19.824263",
     "status": "completed"
    },
    "tags": []
   },
   "outputs": [
    {
     "data": {
      "image/png": "[encoded data removed]",
      "text/plain": [
       "<Figure size 432x288 with 1 Axes>"
      ]
     },
     "metadata": {
      "needs_background": "light"
     },
     "output_type": "display_data"
    }
   ],
   "source": [
    "# the percentage of patients who (recived SMS of not) to (missing or showing)\n",
    "df.groupby(\"No-show\")[\"SMS_received\"].value_counts().unstack().plot(kind=\"bar\",stacked=True).set_xticklabels([\"showed\",\"missed\"])\n",
    "plt.legend([\"NOt Received\", \"Received\"]);\n",
    "plt.title(\"Percentage of patients who missed or showed and Receiving SMS to total number of patients\");"
   ]
  },
  {
   "cell_type": "markdown",
   "metadata": {
    "papermill": {
     "duration": 0.120856,
     "end_time": "2020-12-31T04:19:20.366055",
     "exception": false,
     "start_time": "2020-12-31T04:19:20.245199",
     "status": "completed"
    },
    "tags": []
   },
   "source": [
    "### Results:\n",
    "- Most patients didn't received an SMS.\n",
    "- The patients who received an SMS have a higher percentage of missing the appointments 27.6% to those who didn't 16.7%.\n",
    "- For the ptients who missed their appointments, 43% of them received an SMS.\n",
    "- **According to the data, receiving an SMS, didn't make patients more likely to show to their appointments.**\n",
    "\n",
    "    "
   ]
  },
  {
   "cell_type": "markdown",
   "metadata": {
    "papermill": {
     "duration": 0.123615,
     "end_time": "2020-12-31T04:19:20.613269",
     "exception": false,
     "start_time": "2020-12-31T04:19:20.489654",
     "status": "completed"
    },
    "tags": []
   },
   "source": [
    "---\n",
    "### General correlation table between columns"
   ]
  },
  {
   "cell_type": "code",
   "execution_count": 69,
   "metadata": {
    "execution": {
     "iopub.execute_input": "2020-12-31T04:19:20.886065Z",
     "iopub.status.busy": "2020-12-31T04:19:20.884891Z",
     "iopub.status.idle": "2020-12-31T04:19:20.890421Z",
     "shell.execute_reply": "2020-12-31T04:19:20.889695Z"
    },
    "papermill": {
     "duration": 0.152764,
     "end_time": "2020-12-31T04:19:20.890557",
     "exception": false,
     "start_time": "2020-12-31T04:19:20.737793",
     "status": "completed"
    },
    "tags": []
   },
   "outputs": [],
   "source": [
    "# Convert \"No-show\" column to binary values by creatind a new column \n",
    "df[\"missed\"] = np.where(df[\"No-show\"] == \"Yes\",1,0)"
   ]
  },
  {
   "cell_type": "code",
   "execution_count": 70,
   "metadata": {
    "execution": {
     "iopub.execute_input": "2020-12-31T04:19:21.153259Z",
     "iopub.status.busy": "2020-12-31T04:19:21.152258Z",
     "iopub.status.idle": "2020-12-31T04:19:21.210105Z",
     "shell.execute_reply": "2020-12-31T04:19:21.210652Z"
    },
    "papermill": {
     "duration": 0.194367,
     "end_time": "2020-12-31T04:19:21.210800",
     "exception": false,
     "start_time": "2020-12-31T04:19:21.016433",
     "status": "completed"
    },
    "tags": []
   },
   "outputs": [
    {
     "data": {
      "text/html": [
       "<div>\n",
       "<style scoped>\n",
       "    .dataframe tbody tr th:only-of-type {\n",
       "        vertical-align: middle;\n",
       "    }\n",
       "\n",
       "    .dataframe tbody tr th {\n",
       "        vertical-align: top;\n",
       "    }\n",
       "\n",
       "    .dataframe thead th {\n",
       "        text-align: right;\n",
       "    }\n",
       "</style>\n",
       "<table border=\"1\" class=\"dataframe\">\n",
       "  <thead>\n",
       "    <tr style=\"text-align: right;\">\n",
       "      <th></th>\n",
       "      <th>PatientId</th>\n",
       "      <th>AppointmentID</th>\n",
       "      <th>Age</th>\n",
       "      <th>Scholarship</th>\n",
       "      <th>Hipertension</th>\n",
       "      <th>Diabetes</th>\n",
       "      <th>Alcoholism</th>\n",
       "      <th>Handcap</th>\n",
       "      <th>SMS_received</th>\n",
       "      <th>missed</th>\n",
       "    </tr>\n",
       "  </thead>\n",
       "  <tbody>\n",
       "    <tr>\n",
       "      <th>PatientId</th>\n",
       "      <td>1.000000</td>\n",
       "      <td>0.004023</td>\n",
       "      <td>-0.004121</td>\n",
       "      <td>-0.002877</td>\n",
       "      <td>-0.006436</td>\n",
       "      <td>0.001608</td>\n",
       "      <td>0.011014</td>\n",
       "      <td>-0.007915</td>\n",
       "      <td>-0.009742</td>\n",
       "      <td>-0.001456</td>\n",
       "    </tr>\n",
       "    <tr>\n",
       "      <th>AppointmentID</th>\n",
       "      <td>0.004023</td>\n",
       "      <td>1.000000</td>\n",
       "      <td>-0.019106</td>\n",
       "      <td>0.022619</td>\n",
       "      <td>0.012759</td>\n",
       "      <td>0.022632</td>\n",
       "      <td>0.032946</td>\n",
       "      <td>0.014107</td>\n",
       "      <td>-0.256613</td>\n",
       "      <td>-0.162597</td>\n",
       "    </tr>\n",
       "    <tr>\n",
       "      <th>Age</th>\n",
       "      <td>-0.004121</td>\n",
       "      <td>-0.019106</td>\n",
       "      <td>1.000000</td>\n",
       "      <td>-0.092463</td>\n",
       "      <td>0.504586</td>\n",
       "      <td>0.292391</td>\n",
       "      <td>0.095810</td>\n",
       "      <td>0.078032</td>\n",
       "      <td>0.012633</td>\n",
       "      <td>-0.060327</td>\n",
       "    </tr>\n",
       "    <tr>\n",
       "      <th>Scholarship</th>\n",
       "      <td>-0.002877</td>\n",
       "      <td>0.022619</td>\n",
       "      <td>-0.092463</td>\n",
       "      <td>1.000000</td>\n",
       "      <td>-0.019730</td>\n",
       "      <td>-0.024894</td>\n",
       "      <td>0.035022</td>\n",
       "      <td>-0.008587</td>\n",
       "      <td>0.001192</td>\n",
       "      <td>0.029134</td>\n",
       "    </tr>\n",
       "    <tr>\n",
       "      <th>Hipertension</th>\n",
       "      <td>-0.006436</td>\n",
       "      <td>0.012759</td>\n",
       "      <td>0.504586</td>\n",
       "      <td>-0.019730</td>\n",
       "      <td>1.000000</td>\n",
       "      <td>0.433085</td>\n",
       "      <td>0.087970</td>\n",
       "      <td>0.080083</td>\n",
       "      <td>-0.006270</td>\n",
       "      <td>-0.035704</td>\n",
       "    </tr>\n",
       "    <tr>\n",
       "      <th>Diabetes</th>\n",
       "      <td>0.001608</td>\n",
       "      <td>0.022632</td>\n",
       "      <td>0.292391</td>\n",
       "      <td>-0.024894</td>\n",
       "      <td>0.433085</td>\n",
       "      <td>1.000000</td>\n",
       "      <td>0.018473</td>\n",
       "      <td>0.057530</td>\n",
       "      <td>-0.014552</td>\n",
       "      <td>-0.015181</td>\n",
       "    </tr>\n",
       "    <tr>\n",
       "      <th>Alcoholism</th>\n",
       "      <td>0.011014</td>\n",
       "      <td>0.032946</td>\n",
       "      <td>0.095810</td>\n",
       "      <td>0.035022</td>\n",
       "      <td>0.087970</td>\n",
       "      <td>0.018473</td>\n",
       "      <td>1.000000</td>\n",
       "      <td>0.004647</td>\n",
       "      <td>-0.026149</td>\n",
       "      <td>-0.000197</td>\n",
       "    </tr>\n",
       "    <tr>\n",
       "      <th>Handcap</th>\n",
       "      <td>-0.007915</td>\n",
       "      <td>0.014107</td>\n",
       "      <td>0.078032</td>\n",
       "      <td>-0.008587</td>\n",
       "      <td>0.080083</td>\n",
       "      <td>0.057530</td>\n",
       "      <td>0.004647</td>\n",
       "      <td>1.000000</td>\n",
       "      <td>-0.024162</td>\n",
       "      <td>-0.006077</td>\n",
       "    </tr>\n",
       "    <tr>\n",
       "      <th>SMS_received</th>\n",
       "      <td>-0.009742</td>\n",
       "      <td>-0.256613</td>\n",
       "      <td>0.012633</td>\n",
       "      <td>0.001192</td>\n",
       "      <td>-0.006270</td>\n",
       "      <td>-0.014552</td>\n",
       "      <td>-0.026149</td>\n",
       "      <td>-0.024162</td>\n",
       "      <td>1.000000</td>\n",
       "      <td>0.126428</td>\n",
       "    </tr>\n",
       "    <tr>\n",
       "      <th>missed</th>\n",
       "      <td>-0.001456</td>\n",
       "      <td>-0.162597</td>\n",
       "      <td>-0.060327</td>\n",
       "      <td>0.029134</td>\n",
       "      <td>-0.035704</td>\n",
       "      <td>-0.015181</td>\n",
       "      <td>-0.000197</td>\n",
       "      <td>-0.006077</td>\n",
       "      <td>0.126428</td>\n",
       "      <td>1.000000</td>\n",
       "    </tr>\n",
       "  </tbody>\n",
       "</table>\n",
       "</div>"
      ],
      "text/plain": [
       "               PatientId  AppointmentID       Age  Scholarship  Hipertension  \\\n",
       "PatientId       1.000000       0.004023 -0.004121    -0.002877     -0.006436   \n",
       "AppointmentID   0.004023       1.000000 -0.019106     0.022619      0.012759   \n",
       "Age            -0.004121      -0.019106  1.000000    -0.092463      0.504586   \n",
       "Scholarship    -0.002877       0.022619 -0.092463     1.000000     -0.019730   \n",
       "Hipertension   -0.006436       0.012759  0.504586    -0.019730      1.000000   \n",
       "Diabetes        0.001608       0.022632  0.292391    -0.024894      0.433085   \n",
       "Alcoholism      0.011014       0.032946  0.095810     0.035022      0.087970   \n",
       "Handcap        -0.007915       0.014107  0.078032    -0.008587      0.080083   \n",
       "SMS_received   -0.009742      -0.256613  0.012633     0.001192     -0.006270   \n",
       "missed         -0.001456      -0.162597 -0.060327     0.029134     -0.035704   \n",
       "\n",
       "               Diabetes  Alcoholism   Handcap  SMS_received    missed  \n",
       "PatientId      0.001608    0.011014 -0.007915     -0.009742 -0.001456  \n",
       "AppointmentID  0.022632    0.032946  0.014107     -0.256613 -0.162597  \n",
       "Age            0.292391    0.095810  0.078032      0.012633 -0.060327  \n",
       "Scholarship   -0.024894    0.035022 -0.008587      0.001192  0.029134  \n",
       "Hipertension   0.433085    0.087970  0.080083     -0.006270 -0.035704  \n",
       "Diabetes       1.000000    0.018473  0.057530     -0.014552 -0.015181  \n",
       "Alcoholism     0.018473    1.000000  0.004647     -0.026149 -0.000197  \n",
       "Handcap        0.057530    0.004647  1.000000     -0.024162 -0.006077  \n",
       "SMS_received  -0.014552   -0.026149 -0.024162      1.000000  0.126428  \n",
       "missed        -0.015181   -0.000197 -0.006077      0.126428  1.000000  "
      ]
     },
     "execution_count": 70,
     "metadata": {},
     "output_type": "execute_result"
    }
   ],
   "source": [
    "df.corr()"
   ]
  },
  {
   "cell_type": "markdown",
   "metadata": {
    "papermill": {
     "duration": 0.122267,
     "end_time": "2020-12-31T04:19:21.456056",
     "exception": false,
     "start_time": "2020-12-31T04:19:21.333789",
     "status": "completed"
    },
    "tags": []
   },
   "source": [
    "___\n",
    "___\n",
    "<a id='conclusions'></a>\n",
    "## Conclusions\n",
    "We investigated the correlation between some of the characteristics of the patients and whether they missed or showed to their appointment. \n",
    "**And these are the results of these analyses:**\n",
    "- **patients from 12 to mid-30s are more likely to miss their appointments**\n",
    "- **kids and patients in their 60s, 70s, and 80s are more likely to show to their appointments**\n",
    "- **There is no correlation between gender alone and missing the appointment.**\n",
    "- **The neighborhoods with most patients showing to their appointments have low patients numbers. So, we couldn't conclude that these neighborhoods have a higher chance that patients won't miss their appointments.**\n",
    "- **Receiving an SMS did not increase the chance that the patient would show to their appointment.**"
   ]
  },
  {
   "cell_type": "markdown",
   "metadata": {
    "jupyter": {
     "outputs_hidden": true
    },
    "papermill": {
     "duration": 0.122284,
     "end_time": "2020-12-31T04:19:21.701268",
     "exception": false,
     "start_time": "2020-12-31T04:19:21.578984",
     "status": "completed"
    },
    "tags": []
   },
   "source": [
    "---\n",
    "<a id='lim'></a>\n",
    "## limitations\n",
    "- The period when the data collected was just nearly two months, and this short period doesn't make the data reliable to make a strong correlation\n",
    "- There was no explanation of how the data was collected, and if it was collected in a way that makes these analyses more reliable.\n",
    "- The Handcap and SMS_received columns weren't explained clearly on the dataset page.\n",
    "- The dataset didn't explain why the patient comes to the doctor, which may give an additional explanation about why they miss their appointments.\n"
   ]
  }
 ],
 "metadata": {
  "kernelspec": {
   "display_name": "Python 3",
   "language": "python",
   "name": "python3"
  },
  "language_info": {
   "codemirror_mode": {
    "name": "ipython",
    "version": 3
   },
   "file_extension": ".py",
   "mimetype": "text/x-python",
   "name": "python",
   "nbconvert_exporter": "python",
   "pygments_lexer": "ipython3",
   "version": "3.7.6"
  },
  "papermill": {
   "duration": 41.276598,
   "end_time": "2020-12-31T04:19:21.932956",
   "environment_variables": {},
   "exception": null,
   "input_path": "__notebook__.ipynb",
   "output_path": "__notebook__.ipynb",
   "parameters": {},
   "start_time": "2020-12-31T04:18:40.656358",
   "version": "2.1.0"
  }
 },
 "nbformat": 4,
 "nbformat_minor": 4
}
